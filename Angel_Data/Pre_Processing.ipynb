{
 "cells": [
  {
   "cell_type": "code",
   "execution_count": 1,
   "metadata": {},
   "outputs": [],
   "source": [
    "import pandas as pd\n",
    "import numpy as np\n",
    "import matplotlib.pyplot as plt\n",
    "import seaborn as sb\n",
    "import warnings\n",
    "warnings.filterwarnings('ignore')"
   ]
  },
  {
   "cell_type": "code",
   "execution_count": 68,
   "metadata": {},
   "outputs": [],
   "source": [
    "data = pd.read_csv(\"Column_Selection.csv\")\n",
    "data.head()"
   ]
  },
  {
   "cell_type": "code",
   "execution_count": 67,
   "metadata": {},
   "outputs": [],
   "source": [
    "data.head()"
   ]
  },
  {
   "cell_type": "markdown",
   "metadata": {},
   "source": [
    "# Location"
   ]
  },
  {
   "cell_type": "code",
   "execution_count": 4,
   "metadata": {},
   "outputs": [],
   "source": [
    "loc = data.Location"
   ]
  },
  {
   "cell_type": "code",
   "execution_count": 66,
   "metadata": {},
   "outputs": [],
   "source": [
    "data.Location.unique()"
   ]
  },
  {
   "cell_type": "markdown",
   "metadata": {},
   "source": [
    "# Change Gurugoan by Gurgaon "
   ]
  },
  {
   "cell_type": "code",
   "execution_count": 6,
   "metadata": {},
   "outputs": [],
   "source": [
    "import re\n",
    "location = []\n",
    "for i in range(len(data)):\n",
    "    value = re.split('; |, |/',str(loc[i]))\n",
    "    if \"Gurugoan\" in value:\n",
    "        words = [w.replace('Gurugoan', 'Gurgaon') for w in re.split('; |, |/',str(data[\"Location\"][i]))]\n",
    "        location.append(words)\n",
    "    else:\n",
    "        location.append(value)"
   ]
  },
  {
   "cell_type": "code",
   "execution_count": 7,
   "metadata": {},
   "outputs": [],
   "source": [
    "lo = ['Bengaluru', 'Mumbai', 'Pune', 'Hyderabad', 'Gurugram', 'Chennai', 'Noida', 'Delhi', 'Kolkata', 'Gurgaon']"
   ]
  },
  {
   "cell_type": "code",
   "execution_count": 8,
   "metadata": {},
   "outputs": [
    {
     "name": "stderr",
     "output_type": "stream",
     "text": [
      "IOPub data rate exceeded.\n",
      "The notebook server will temporarily stop sending output\n",
      "to the client in order to avoid crashing it.\n",
      "To change this limit, set the config variable\n",
      "`--NotebookApp.iopub_data_rate_limit`.\n",
      "\n",
      "Current values:\n",
      "NotebookApp.iopub_data_rate_limit=1000000.0 (bytes/sec)\n",
      "NotebookApp.rate_limit_window=3.0 (secs)\n",
      "\n"
     ]
    }
   ],
   "source": [
    "import itertools\n",
    "loc_dict = {}\n",
    "\n",
    "for i in range(len(data)):\n",
    "    for j in location[i]:\n",
    "        if j in lo and j in loc_dict.keys():\n",
    "            c = []\n",
    "            c.append(loc_dict[j])\n",
    "            c.append([i])\n",
    "            merged = list(itertools.chain(*c))\n",
    "            loc_dict[j] = merged\n",
    "        elif j not in lo and \"Others\" in loc_dict.keys():\n",
    "            c = []\n",
    "            c.append(loc_dict[\"Others\"])\n",
    "            c.append([i])\n",
    "            merged = list(itertools.chain(*c))\n",
    "            loc_dict[\"Others\"] = merged\n",
    "        elif j not in loc_dict.keys():\n",
    "            if j in lo:\n",
    "                loc_dict[j] = [i]  \n",
    "            else:\n",
    "                loc_dict[\"Others\"] = [i]\n",
    "        print(loc_dict)"
   ]
  },
  {
   "cell_type": "code",
   "execution_count": 9,
   "metadata": {},
   "outputs": [
    {
     "data": {
      "text/plain": [
       "2438"
      ]
     },
     "execution_count": 9,
     "metadata": {},
     "output_type": "execute_result"
    }
   ],
   "source": [
    "len(loc_dict[\"Others\"])"
   ]
  },
  {
   "cell_type": "code",
   "execution_count": 10,
   "metadata": {},
   "outputs": [],
   "source": [
    "feature_list = loc_dict.keys()\n",
    "zero_data = np.zeros(shape=(len(data),len(feature_list)))\n",
    "new_d = pd.DataFrame(zero_data, columns=feature_list)"
   ]
  },
  {
   "cell_type": "code",
   "execution_count": 11,
   "metadata": {},
   "outputs": [],
   "source": [
    "for k in range(len(new_d)):\n",
    "    for i in  loc_dict.keys():\n",
    "        for j in loc_dict[i]:\n",
    "            new_d[i][j] = 1 "
   ]
  },
  {
   "cell_type": "code",
   "execution_count": 12,
   "metadata": {},
   "outputs": [],
   "source": [
    "import csv\n",
    "new_d.to_csv(\"Location.csv\")"
   ]
  },
  {
   "cell_type": "markdown",
   "metadata": {},
   "source": [
    "# Designation"
   ]
  },
  {
   "cell_type": "markdown",
   "metadata": {},
   "source": [
    "__Here replace designation of the contact person by one which it at higher rank in hierarchy__"
   ]
  },
  {
   "cell_type": "code",
   "execution_count": 13,
   "metadata": {},
   "outputs": [],
   "source": [
    "data[\"Designation\"].fillna(\"Missing\", inplace=True)\n",
    "data[\"Designation 2\"].fillna(\"Missing\", inplace=True)\n",
    "data[\"Designation 3\"].fillna(\"Missing\", inplace=True)"
   ]
  },
  {
   "cell_type": "code",
   "execution_count": 14,
   "metadata": {},
   "outputs": [],
   "source": [
    "data[\"combined\"] = data[\"Designation\"].str.cat(data[[\"Designation\", \"Designation 2\", \"Designation 3\"]].astype(str), sep=\"/\")"
   ]
  },
  {
   "cell_type": "code",
   "execution_count": 17,
   "metadata": {},
   "outputs": [],
   "source": [
    "comb = (data.combined).str.split(\"/\")"
   ]
  },
  {
   "cell_type": "code",
   "execution_count": 35,
   "metadata": {},
   "outputs": [],
   "source": [
    "founder = [\"F\",\"Founder\",\"CF\", \"Co-founder\", \"President\", \"Director\", \"MD\", \"Founder & CEO\", \"Owner\", \"cbo\"]\n",
    "vp = [\"Associate VP\",\"VP\"]\n",
    "ceo = [\"CEO\", \"CTO\"]\n",
    "hr = [\"HR\",\" VP HR\", \"Director-HR\"]"
   ]
  },
  {
   "cell_type": "code",
   "execution_count": 42,
   "metadata": {},
   "outputs": [],
   "source": [
    "l = []\n",
    "for i in comb:\n",
    "    if any(item in i for item in founder):\n",
    "        l.append(\"Founder\")\n",
    "    elif any(item in i for item in vp):\n",
    "        l.append(\"VP\")\n",
    "    elif any(item in i for item in ceo):\n",
    "        l.append(\"CEO\")\n",
    "    elif any(item in i for item in hr):\n",
    "        l.append(\"HR\")\n",
    "    elif all(item in i for item in [\"Missing\"]):\n",
    "        l.append(\"Missing\")\n",
    "    else:\n",
    "        l.append(i[0])"
   ]
  },
  {
   "cell_type": "code",
   "execution_count": 54,
   "metadata": {},
   "outputs": [],
   "source": [
    "data[\"Desingations\"] = l"
   ]
  },
  {
   "cell_type": "code",
   "execution_count": 61,
   "metadata": {},
   "outputs": [
    {
     "data": {
      "text/plain": [
       "Index(['Unnamed: 0', 'Contact Status', 'Detail Tech Requirement', 'Funding',\n",
       "       'Location', 'Requirements', 'Size', 'Desingations'],\n",
       "      dtype='object')"
      ]
     },
     "execution_count": 61,
     "metadata": {},
     "output_type": "execute_result"
    }
   ],
   "source": [
    "data.columns"
   ]
  },
  {
   "cell_type": "code",
   "execution_count": 62,
   "metadata": {},
   "outputs": [
    {
     "data": {
      "text/html": [
       "<div>\n",
       "<style scoped>\n",
       "    .dataframe tbody tr th:only-of-type {\n",
       "        vertical-align: middle;\n",
       "    }\n",
       "\n",
       "    .dataframe tbody tr th {\n",
       "        vertical-align: top;\n",
       "    }\n",
       "\n",
       "    .dataframe thead th {\n",
       "        text-align: right;\n",
       "    }\n",
       "</style>\n",
       "<table border=\"1\" class=\"dataframe\">\n",
       "  <thead>\n",
       "    <tr style=\"text-align: right;\">\n",
       "      <th></th>\n",
       "      <th>Unnamed: 0</th>\n",
       "      <th>Contact Status</th>\n",
       "      <th>Detail Tech Requirement</th>\n",
       "      <th>Funding</th>\n",
       "      <th>Location</th>\n",
       "      <th>Requirements</th>\n",
       "      <th>Size</th>\n",
       "      <th>Desingations</th>\n",
       "    </tr>\n",
       "  </thead>\n",
       "  <tbody>\n",
       "    <tr>\n",
       "      <th>0</th>\n",
       "      <td>0</td>\n",
       "      <td>0</td>\n",
       "      <td>NaN</td>\n",
       "      <td>NaN</td>\n",
       "      <td>Noida, Delhi</td>\n",
       "      <td>Back End</td>\n",
       "      <td>51-200</td>\n",
       "      <td>Founder</td>\n",
       "    </tr>\n",
       "    <tr>\n",
       "      <th>1</th>\n",
       "      <td>1</td>\n",
       "      <td>0</td>\n",
       "      <td>NaN</td>\n",
       "      <td>NaN</td>\n",
       "      <td>Gurgaon</td>\n",
       "      <td>Full Stack, Front End</td>\n",
       "      <td>201-500</td>\n",
       "      <td>Founder</td>\n",
       "    </tr>\n",
       "    <tr>\n",
       "      <th>2</th>\n",
       "      <td>2</td>\n",
       "      <td>0</td>\n",
       "      <td>NaN</td>\n",
       "      <td>NaN</td>\n",
       "      <td>Gurgaon, Delhi</td>\n",
       "      <td>ReactJS</td>\n",
       "      <td>11-50</td>\n",
       "      <td>Founder</td>\n",
       "    </tr>\n",
       "    <tr>\n",
       "      <th>3</th>\n",
       "      <td>3</td>\n",
       "      <td>0</td>\n",
       "      <td>NaN</td>\n",
       "      <td>NaN</td>\n",
       "      <td>Gurgaon</td>\n",
       "      <td>Front End</td>\n",
       "      <td>11-50</td>\n",
       "      <td>Founder</td>\n",
       "    </tr>\n",
       "    <tr>\n",
       "      <th>4</th>\n",
       "      <td>4</td>\n",
       "      <td>0</td>\n",
       "      <td>NaN</td>\n",
       "      <td>NaN</td>\n",
       "      <td>Gurgaon</td>\n",
       "      <td>Software, Front End</td>\n",
       "      <td>0-10</td>\n",
       "      <td>Founder</td>\n",
       "    </tr>\n",
       "  </tbody>\n",
       "</table>\n",
       "</div>"
      ],
      "text/plain": [
       "   Unnamed: 0  Contact Status Detail Tech Requirement Funding        Location  \\\n",
       "0           0               0                     NaN     NaN    Noida, Delhi   \n",
       "1           1               0                     NaN     NaN         Gurgaon   \n",
       "2           2               0                     NaN     NaN  Gurgaon, Delhi   \n",
       "3           3               0                     NaN     NaN         Gurgaon   \n",
       "4           4               0                     NaN     NaN         Gurgaon   \n",
       "\n",
       "            Requirements     Size Desingations  \n",
       "0               Back End   51-200      Founder  \n",
       "1  Full Stack, Front End  201-500      Founder  \n",
       "2                ReactJS    11-50      Founder  \n",
       "3              Front End    11-50      Founder  \n",
       "4    Software, Front End     0-10      Founder  "
      ]
     },
     "execution_count": 62,
     "metadata": {},
     "output_type": "execute_result"
    }
   ],
   "source": [
    "data.head()"
   ]
  },
  {
   "cell_type": "code",
   "execution_count": 65,
   "metadata": {},
   "outputs": [],
   "source": [
    "import csv\n",
    "data.to_csv(\"Desingation.csv\")"
   ]
  }
 ],
 "metadata": {
  "kernelspec": {
   "display_name": "Python 3",
   "language": "python",
   "name": "python3"
  },
  "language_info": {
   "codemirror_mode": {
    "name": "ipython",
    "version": 3
   },
   "file_extension": ".py",
   "mimetype": "text/x-python",
   "name": "python",
   "nbconvert_exporter": "python",
   "pygments_lexer": "ipython3",
   "version": "3.7.1"
  }
 },
 "nbformat": 4,
 "nbformat_minor": 2
}
