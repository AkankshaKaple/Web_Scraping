{
 "cells": [
  {
   "cell_type": "markdown",
   "metadata": {
    "colab_type": "text",
    "id": "vq9ya9jtU8Ih"
   },
   "source": [
    "<b>Features:</b> Following are the features in dataset:\n",
    "\n",
    "* __'Added Date'__  --> Date when entry entered\n",
    "* __'BANT Status'__ --> \n",
    "    * __B(Budget)__ - Depends on Funding or Minimum salary that the company gives to freshers\n",
    "    * __A(Authority)__ - Right Contact person\n",
    "    * __N(Need)__ - Company Tech Requirement\n",
    "    * __T(Time Frame)__ - Company has to wait for 4 Months for deployment. \n",
    "* __'Co Linkedin URL'__ --> LinkedIn URL\n",
    "* __'Company Name'__  --> Name of Comapny\n",
    "* __'Contact #2', 'Contact #3'__ --> Contact Number\n",
    "* __'Contact Status'__ --> Company's reaction\n",
    "* __'Designation','Designation 2', 'Designation 3'__ --> Designation of person we are contacting\n",
    "* __'Detail Tech Requirement'__ --> Company's requirments\n",
    "* __'Email', 'Email 2', 'Email 3'__ --> Email id of person we are contacting\n",
    "* __'FollowUp Date'__ --> Date given by comapny to contact back\n",
    "* __'Funding'__ --> Total amount invested into the company\n",
    "* __'Linkedin URL'__ --> LinkedIn URL\n",
    "* __'Location'__ --> Location of headquarter of the comapny\n",
    "* __'Merge status'__ --> Ignore\n",
    "* __'Phone 2', 'Phone 3', 'Phone No'__ --> Phone Number\n",
    "* __'Primary Contact Person', 'Proimary Contact Person'__\n",
    "* __'Remarks'__  --> Ignore\n",
    "* __'Requirements'__\n",
    "* __'Sales Status'__ --> Ignore\n",
    "* __'Segment'__ --> Type of company\n",
    "* __'Size'__ --> Number of enployees\n",
    "* __'Source'__ --> Ignore"
   ]
  },
  {
   "cell_type": "code",
   "execution_count": 3,
   "metadata": {
    "colab": {},
    "colab_type": "code",
    "id": "k3nUVtA8U8Ii"
   },
   "outputs": [],
   "source": [
    "import pandas as pd\n",
    "import numpy as np\n",
    "import matplotlib.pyplot as plt\n",
    "import seaborn as sb\n",
    "import warnings\n",
    "warnings.filterwarnings('ignore')"
   ]
  },
  {
   "cell_type": "code",
   "execution_count": 4,
   "metadata": {
    "colab": {
     "base_uri": "https://localhost:8080/",
     "height": 326
    },
    "colab_type": "code",
    "id": "4kjitg3OU8Im",
    "outputId": "b495f3aa-c489-4861-f901-42b73b9a9131"
   },
   "outputs": [],
   "source": [
    "data = pd.ExcelFile(\"Data.xlsx\")"
   ]
  },
  {
   "cell_type": "code",
   "execution_count": 5,
   "metadata": {
    "colab": {},
    "colab_type": "code",
    "id": "V1kz5OZ_U8Ip"
   },
   "outputs": [],
   "source": [
    "df1 = pd.read_excel(data, 'Ashish')\n",
    "df2 = pd.read_excel(data, 'Deepu')\n",
    "df3 = pd.read_excel(data, \"Rozer\")\n",
    "df4 = pd.read_excel(data, \"Shubham\")"
   ]
  },
  {
   "cell_type": "code",
   "execution_count": 6,
   "metadata": {
    "colab": {},
    "colab_type": "code",
    "id": "5V5bUoUhU8Ir"
   },
   "outputs": [],
   "source": [
    "data = pd.concat([df1, df2, df3, df4])"
   ]
  },
  {
   "cell_type": "code",
   "execution_count": 7,
   "metadata": {
    "colab": {},
    "colab_type": "code",
    "id": "n07gBFPRU8Iu",
    "outputId": "2eccfab5-dece-4533-dd89-484642102eeb"
   },
   "outputs": [
    {
     "data": {
      "text/plain": [
       "((805, 31), (2826, 37), (2390, 28), (522, 28))"
      ]
     },
     "execution_count": 7,
     "metadata": {},
     "output_type": "execute_result"
    }
   ],
   "source": [
    "df1.shape, df2.shape, df3.shape, df4.shape"
   ]
  },
  {
   "cell_type": "code",
   "execution_count": 8,
   "metadata": {
    "colab": {},
    "colab_type": "code",
    "id": "TwzLyHrQU8Iz",
    "outputId": "7f4b6e18-eea9-4426-ac6d-326bee8f8032"
   },
   "outputs": [
    {
     "data": {
      "text/plain": [
       "(6543, 39)"
      ]
     },
     "execution_count": 8,
     "metadata": {},
     "output_type": "execute_result"
    }
   ],
   "source": [
    "data.shape"
   ]
  },
  {
   "cell_type": "code",
   "execution_count": 9,
   "metadata": {
    "colab": {},
    "colab_type": "code",
    "id": "CQATr2RJU8I3",
    "outputId": "b10f7606-942c-4993-e2d6-10d9c61e38ea"
   },
   "outputs": [
    {
     "data": {
      "text/plain": [
       "(1475, 3883)"
      ]
     },
     "execution_count": 9,
     "metadata": {},
     "output_type": "execute_result"
    }
   ],
   "source": [
    "data[\"Designation\"].isna().sum(), data[\"Designation 2\"].isna().sum()"
   ]
  },
  {
   "cell_type": "markdown",
   "metadata": {
    "colab_type": "text",
    "id": "nptDwn9fU8I6"
   },
   "source": [
    "# Drop unwanted columns\n",
    "\n",
    "Out of above features useful features are :\n",
    "* __'Contact Status'__ --> Company's reaction\n",
    "* __'Designation','Designation 2', 'Designation 3'__ --> Designation of person we are contacting\n",
    "* __'Detail Tech Requirement'__ --> Company's requirments\n",
    "* __'Funding'__ --> Total amount invested into the company\n",
    "* __'Location'__ --> Location of headquarter of the comapny\n",
    "* __'Segment'__ --> Type of company\n",
    "* __'Size'__ --> Number of enployees\n",
    "\n",
    "<b>Reasons</b>\n",
    "* __'Contact Status'__ --> This is what we are goning to predict\n",
    "* __'Designation','Designation 2', 'Designation 3'__ --> If the contact person is technical head  or a descision making person of comapny then he'll easily understant the technical stuff and can make descisions without much dealy.\n",
    "* __'Detail Tech Requirement'__ --> If company's requirment matches what we are providing then there is high chance of that company to consider us\n",
    "* __'Funding'__ --> If company has low funding then it won't be able to hadle our chargers\n",
    "* __'Location'__ --> Location of headquarter of the comapny\n",
    "* __'Segment'__ --> Type of company\n",
    "* __'Size'__ --> Number of enployees\n"
   ]
  },
  {
   "cell_type": "code",
   "execution_count": 10,
   "metadata": {
    "colab": {},
    "colab_type": "code",
    "id": "AmOXYXQFU8I7"
   },
   "outputs": [],
   "source": [
    "data.drop(columns=['Added Date', 'BANT Status', 'Co Linkedin URL'\n",
    "                   ,'Contact #2', 'Contact #3','Email','Email 2', 'Email 3', 'FollowUp Date', 'Linkedin URL', 'Phone 2', 'Phone 3'\n",
    "                   , 'Phone No','Primary Contact Person', 'Proimary Contact Person','Unnamed: 28', 'Unnamed: 29', 'Unnamed: 30', 'Unnamed: 31'\n",
    "                   ,'Unnamed: 32', 'Unnamed: 33', 'Unnamed: 34', 'Unnamed: 35'\n",
    "                   ,'Unnamed: 36', \"Sales Status\", \"Segment\", \"Source\", 'Merge status', \"Remarks\"], inplace = True)"
   ]
  },
  {
   "cell_type": "code",
   "execution_count": 11,
   "metadata": {
    "colab": {},
    "colab_type": "code",
    "id": "6iBQY4s1U8I-",
    "outputId": "bf506061-23fa-4589-cf60-436cf53a8cd8"
   },
   "outputs": [
    {
     "data": {
      "text/plain": [
       "Index(['Company Name', 'Contact Status', 'Designation', 'Designation 2',\n",
       "       'Designation 3', 'Detail Tech Requirement', 'Funding', 'Location',\n",
       "       'Requirements', 'Size'],\n",
       "      dtype='object')"
      ]
     },
     "execution_count": 11,
     "metadata": {},
     "output_type": "execute_result"
    }
   ],
   "source": [
    "data.columns"
   ]
  },
  {
   "cell_type": "code",
   "execution_count": 12,
   "metadata": {
    "colab": {},
    "colab_type": "code",
    "id": "TGHGdcgaU8JB"
   },
   "outputs": [],
   "source": [
    "import csv\n",
    "data.to_csv(\"Column_Selection.csv\")"
   ]
  },
  {
   "cell_type": "markdown",
   "metadata": {
    "colab_type": "text",
    "id": "-_1jWvXCU8JE"
   },
   "source": [
    "# 'Contact Status'\n",
    "<h3><b>Replace the values by 1 if company responded else replace by 0.</b></h3>"
   ]
  },
  {
   "cell_type": "code",
   "execution_count": 13,
   "metadata": {
    "colab": {},
    "colab_type": "code",
    "id": "x53yjHqOU8JF",
    "outputId": "f5ce4994-3057-4d67-fbab-91b2fd4e1550"
   },
   "outputs": [
    {
     "data": {
      "text/plain": [
       "array(None, dtype=object)"
      ]
     },
     "execution_count": 13,
     "metadata": {},
     "output_type": "execute_result"
    }
   ],
   "source": [
    "data[\"Contact Status\"].unique()\n",
    "np.array(data[\"Contact Status\"].fillna(\"Missing\", inplace=True))"
   ]
  },
  {
   "cell_type": "code",
   "execution_count": 14,
   "metadata": {
    "colab": {},
    "colab_type": "code",
    "id": "NzZq1_1QU8JI"
   },
   "outputs": [],
   "source": [
    "data[\"Contact Status\"] = (data[\"Contact Status\"].replace(to_replace={'Reminded2','Reminded1','Emailed #1', \"Missing\"}, value=\"0\", regex=True) )\n",
    "data[\"Contact Status\"] = (data[\"Contact Status\"].replace(to_replace={'Responded', 'Not Interested', 'Called', 'Call-Disqualified'\n",
    "       ,'Call-Scheduled', 'Call-Yes', 'Call-Qualified', 'postponed'}, value=\"1\", regex=True) )"
   ]
  },
  {
   "cell_type": "markdown",
   "metadata": {},
   "source": [
    "# Requirements"
   ]
  },
  {
   "cell_type": "markdown",
   "metadata": {
    "colab_type": "text",
    "id": "E1sb9llNU8KM"
   },
   "source": [
    "</h3><b> Make techs as key in dict and save column number as values. Then replace those col by 1 </b> </h3>\n"
   ]
  },
  {
   "cell_type": "code",
   "execution_count": 13,
   "metadata": {
    "colab": {},
    "colab_type": "code",
    "id": "coz06ywLU8KO"
   },
   "outputs": [],
   "source": [
    "data[\"Requirements\"].fillna(\"Missing\", inplace = True)"
   ]
  },
  {
   "cell_type": "markdown",
   "metadata": {
    "colab_type": "text",
    "id": "xu4K0ykSU8KQ"
   },
   "source": [
    "Remove the brackets and everything within it."
   ]
  },
  {
   "cell_type": "code",
   "execution_count": 14,
   "metadata": {
    "colab": {},
    "colab_type": "code",
    "id": "TEjsZIleU8KR"
   },
   "outputs": [],
   "source": [
    "l = []\n",
    "import re\n",
    "for i in range(len(data)):\n",
    "    x = re.sub(\"[\\(\\[].*?[\\)\\]]\", \"\", str(np.array(data[\"Requirements\"])[i]))\n",
    "    l.append(x)"
   ]
  },
  {
   "cell_type": "code",
   "execution_count": 15,
   "metadata": {
    "colab": {},
    "colab_type": "code",
    "id": "0zyjAcXmU8KT",
    "outputId": "c31ab0b3-9826-4ba6-bd1d-0cf4eb0508ce"
   },
   "outputs": [
    {
     "data": {
      "text/plain": [
       "['Back End', 'Full Stack, Front End', 'ReactJS', 'Front End']"
      ]
     },
     "execution_count": 15,
     "metadata": {},
     "output_type": "execute_result"
    }
   ],
   "source": [
    "l[:4]"
   ]
  },
  {
   "cell_type": "code",
   "execution_count": 16,
   "metadata": {
    "colab": {},
    "colab_type": "code",
    "id": "dzDkuyT7U8KW"
   },
   "outputs": [],
   "source": [
    "req = []\n",
    "for i in l:\n",
    "    req.append(i.split(\",\"))"
   ]
  },
  {
   "cell_type": "code",
   "execution_count": 17,
   "metadata": {
    "colab": {},
    "colab_type": "code",
    "id": "aTyZmb_wU8Ka",
    "outputId": "15b041d3-afd4-4394-80f5-069ede64f6c0"
   },
   "outputs": [
    {
     "data": {
      "text/plain": [
       "[['Back End'], ['Full Stack', ' Front End'], ['ReactJS'], ['Front End']]"
      ]
     },
     "execution_count": 17,
     "metadata": {},
     "output_type": "execute_result"
    }
   ],
   "source": [
    "req[:4]"
   ]
  },
  {
   "cell_type": "code",
   "execution_count": 18,
   "metadata": {
    "colab": {},
    "colab_type": "code",
    "id": "WAfLgSOUU8Kd"
   },
   "outputs": [],
   "source": [
    "b = []\n",
    "for i in l:\n",
    "    b.append(i.split(\",\"))"
   ]
  },
  {
   "cell_type": "code",
   "execution_count": null,
   "metadata": {
    "colab": {},
    "colab_type": "code",
    "id": "9Arno-rpU8Kg"
   },
   "outputs": [],
   "source": [
    "# import itertools\n",
    "# dict = {}\n",
    "# c = []\n",
    "# list_keys = dict.keys()\n",
    "# for i in range(len(b)):\n",
    "#     for j in b[i]:\n",
    "#         j = j.strip().replace(\" \", \"\").lower()\n",
    "#         j = j.strip().replace(\"-\", \"\").lower()\n",
    "#         if j in list_keys:\n",
    "#             c = []\n",
    "#             c.append(dict[j])\n",
    "#             c.append([i])\n",
    "#             merged = list(itertools.chain(*c))\n",
    "#             dict[j] = merged\n",
    "#         else:\n",
    "#             dict[j] = [i]\n"
   ]
  },
  {
   "cell_type": "code",
   "execution_count": null,
   "metadata": {
    "colab": {},
    "colab_type": "code",
    "id": "H8rOkd-HU8Ki",
    "outputId": "d5d1a868-f531-4f6d-e4c4-beb2682bdf93"
   },
   "outputs": [
    {
     "data": {
      "text/plain": [
       "dict_keys(['backend', 'fullstack', 'frontend', 'reactjs', 'software', 'nodejs', 'ios', 'devops', 'mobile', 'qa', 'php', 'angular', 'react', 'java', '.net', 'android', 'hybridmobileapplication', 'ionic', 'mean', 'reactnative', 'machinelearning', 'data', 'web', 'javascript', 'ai', 'ml', 'test', 'python', 'node.js', 'angularjs', 'django', 'blockchain', '', 'meanstack', 'andoid', 'ui', 'mernstack', 'phplaravel', 'objectivec', 'bigdata', 'microservices', 'asp.net', 'golang', 'angular2', 'hybrid', 'fronttend', 'cloud', 'unity', 'missing', 'datascience', 'bloackchain', 'dotnet', 'laravel', 'c++', 'angular5', 'hybridmobile', 'frontend.fullstack', 'ui/ux', 'c#', 'node', 'anjular', 'lampstack', 'c', 'dot.net', 'ux/uiandroid', 'ux', 'softwaredevelopment', 'angularjs5', 'angularfrontend', 'computervision', 'softwarefullstack', 'node.js(angularjs/javascripy', 'php&mysql', 'fullstackfrontend', 'javabackend', 'iosapplication', 'mobileapplication', 'lamp', 'stack', 'javasoftware', 'webbackend', 'softwaremagento', 'app', 'ember.jswithdjangorestapi', 'application', 'softwarefrontend', 'softwarebackend', 'mean/fullstack', 'product', 'ui/frontend', 'softwareengineering', 'mobileapp', 'pythondjando', 'backendnodejs', 'bigdatascala', 'uisoftware', 'ror', 'expressjs', 'netsuite', 'python/djangobackend', 'python/django', 'reactjs/reactnative', 'frontendangular/angular.js', 'androidosfirmware', 'androidapp', 'pythonbackend', 'openstackdevops', 'reactnativemobile', 'fullstackjavascript', 'nativeios', 'fullstackproduct', 'frontendweb', 'c/c++/embeddedsoftwaredeveloper', 'androidsoftware', 'html', 'javascript/jquery', 'javaspring', 'frontned', 'reactfullstack', 'phpbackend', 'frontend/ui', 'djangopythonbackend', 'juniorandroid', 'fullstacksoftware', 'react.js', 'fulljavascript', 'enterpriseintegration', 'sdet', 'mysqldba', 'javascript/bootstrap', 'softwareblockchain', 'ux/uifullstack', 'api', 'softwareios', 'javapython', 'angularjs/nodejs', 'webfullstack', 'backed', 'nodebackend', 'awsdevops', 'desktopapp', 'javafullstackresearch', 'fullstackpython', 'programer', 'androidframework', 'backendengineer', 'angularjs/html', 'fullstack(django', 'mysql', 'productdevelopment', 'frontendengineer', 'fullstackweb', 'angular2ui', 'pythonweb', 'deeplearning', 'juniorfrontend', 'blockchainfrontend', 'juniorfullstack', 'automation', 'backendjava', 'css', 'ux/ui', 'softwarejava', 'frotend', 'django/python', 'webapp', 'ml/ai', 'frontendjs', 'softwaredeveloper', 'iosapp', 'fortend', 'webfrontend', 'dotnetweb', 'softwaredatabase', 'androidnative', 'machinelearning/ai/bigdata', 'webui', 'mango', 'php_laravel_mysql', 'webgraphic', 'pulkit@trell.co', 'fullstack&ios', 'angular/react', 'hybridmobileapp', 'scala', 'devopshacker', 'fullstackandroid', 'sofware', 'javaandroid', 'mobile/frontend', 'multistacksoftware', 'javaweb', 'web/ui', 'frontendreact', 'reactnativereact.js', 'bi/data', 'frontendreactjs', 'javafullstack', 'phpfullstack', 'sodtware', 'ml/dl', 'javamobile', 'reactjs/angularjs', 'fullstackmean/mernstack', 'angukarreactjs', 'jsfullstack', 'fluttermobile', 'fulstack', 'react..js', 'mldevops', 'flutter', 'softwaretester', 'drupal', 'sqldeveloper', 'testingengineer', 'sql', 'anroid', 'automationtest', 'datascientist', 'testautomation', 'mongodb', 'sqlserver', 'testing', 'angular.js', 'backenddeveloper', 'node.js/aws/javascript', 'hadoop', 'mlsoftware', 'javacloud', 'softwaredevelopmenttest', 'ionicapp', 'garima.negi@nagarro.com', 'amit@ahataxis.com', 'rubish@almaconnect.com', 'vineeta@fabbag.com', 'kunal@tushky.com', 'shrirang@origaleasing.com', 'pravin@wishberg.com', 'harish.ramachandran@cignex.com', 'piyush.mistry@jmfl.com', 'traineesoftwaretesting', 'traineesoftware', 'tester', 'trainee', 'magento', 'uideveloper'])"
      ]
     },
     "execution_count": 20,
     "metadata": {},
     "output_type": "execute_result"
    }
   ],
   "source": [
    "# (dict.keys())"
   ]
  },
  {
   "cell_type": "code",
   "execution_count": null,
   "metadata": {
    "colab": {},
    "colab_type": "code",
    "id": "8GQmKL_eU8Ko",
    "outputId": "bab66d2c-a499-4120-8fd7-d594fdaa2c33"
   },
   "outputs": [
    {
     "data": {
      "text/plain": [
       "[4839]"
      ]
     },
     "execution_count": 21,
     "metadata": {},
     "output_type": "execute_result"
    }
   ],
   "source": [
    "dict[\"vineeta@fabbag.com\"]"
   ]
  },
  {
   "cell_type": "markdown",
   "metadata": {
    "colab_type": "text",
    "id": "AkMSFq-zU8Kq"
   },
   "source": [
    "__In the data, few columns contain wrong information. Here Requirement column contain few email ids instead of technologies. To avoid wrong predictions, we need to remove the ones which contain no values or mark it as missing.__"
   ]
  },
  {
   "cell_type": "code",
   "execution_count": null,
   "metadata": {
    "colab": {},
    "colab_type": "code",
    "id": "XrFmD1t0U8Ks",
    "outputId": "9d0b2be9-d5c7-4f8b-8d1e-9d22396409d5"
   },
   "outputs": [
    {
     "data": {
      "text/html": [
       "<div>\n",
       "<style scoped>\n",
       "    .dataframe tbody tr th:only-of-type {\n",
       "        vertical-align: middle;\n",
       "    }\n",
       "\n",
       "    .dataframe tbody tr th {\n",
       "        vertical-align: top;\n",
       "    }\n",
       "\n",
       "    .dataframe thead th {\n",
       "        text-align: right;\n",
       "    }\n",
       "</style>\n",
       "<table border=\"1\" class=\"dataframe\">\n",
       "  <thead>\n",
       "    <tr style=\"text-align: right;\">\n",
       "      <th></th>\n",
       "      <th>Unnamed: 0</th>\n",
       "      <th>Company Name</th>\n",
       "      <th>Contact Status</th>\n",
       "      <th>Designation</th>\n",
       "      <th>Designation 2</th>\n",
       "      <th>Designation 3</th>\n",
       "      <th>Detail Tech Requirement</th>\n",
       "      <th>Funding</th>\n",
       "      <th>Location</th>\n",
       "      <th>Requirements</th>\n",
       "      <th>Size</th>\n",
       "    </tr>\n",
       "  </thead>\n",
       "  <tbody>\n",
       "    <tr>\n",
       "      <th>4839</th>\n",
       "      <td>1208</td>\n",
       "      <td>Fab Bag</td>\n",
       "      <td>Reminded2</td>\n",
       "      <td>NaN</td>\n",
       "      <td>NaN</td>\n",
       "      <td>NaN</td>\n",
       "      <td>NaN</td>\n",
       "      <td>NaN</td>\n",
       "      <td>NaN</td>\n",
       "      <td>vineeta@fabbag.com</td>\n",
       "      <td>NaN</td>\n",
       "    </tr>\n",
       "  </tbody>\n",
       "</table>\n",
       "</div>"
      ],
      "text/plain": [
       "      Unnamed: 0 Company Name Contact Status Designation Designation 2  \\\n",
       "4839        1208      Fab Bag      Reminded2         NaN           NaN   \n",
       "\n",
       "     Designation 3 Detail Tech Requirement Funding Location  \\\n",
       "4839           NaN                     NaN     NaN      NaN   \n",
       "\n",
       "            Requirements Size  \n",
       "4839  vineeta@fabbag.com  NaN  "
      ]
     },
     "execution_count": 22,
     "metadata": {},
     "output_type": "execute_result"
    }
   ],
   "source": [
    "d = pd.read_csv(\"Column_Selection.csv\")\n",
    "d[4839:4840]"
   ]
  },
  {
   "cell_type": "code",
   "execution_count": null,
   "metadata": {
    "colab": {},
    "colab_type": "code",
    "id": "CZnGzEYTU8Kw",
    "outputId": "f7e43fbb-9869-4f0d-93ee-61a776cbdd64"
   },
   "outputs": [
    {
     "name": "stdout",
     "output_type": "stream",
     "text": [
      "[1809]\n",
      "[4469]\n",
      "[4837]\n",
      "[4838]\n",
      "[4839]\n",
      "[4840]\n",
      "[4841]\n",
      "[4842]\n",
      "[5751]\n",
      "[5897]\n"
     ]
    }
   ],
   "source": [
    "for i in dict.keys():\n",
    "    if \"@\" in i:\n",
    "        print(dict[i])"
   ]
  },
  {
   "cell_type": "code",
   "execution_count": null,
   "metadata": {
    "colab": {},
    "colab_type": "code",
    "id": "pX5wzKfjU8Kz",
    "outputId": "79b2add4-f192-4d3b-b72e-7da23fd29364"
   },
   "outputs": [
    {
     "data": {
      "text/html": [
       "<div>\n",
       "<style scoped>\n",
       "    .dataframe tbody tr th:only-of-type {\n",
       "        vertical-align: middle;\n",
       "    }\n",
       "\n",
       "    .dataframe tbody tr th {\n",
       "        vertical-align: top;\n",
       "    }\n",
       "\n",
       "    .dataframe thead th {\n",
       "        text-align: right;\n",
       "    }\n",
       "</style>\n",
       "<table border=\"1\" class=\"dataframe\">\n",
       "  <thead>\n",
       "    <tr style=\"text-align: right;\">\n",
       "      <th></th>\n",
       "      <th>Unnamed: 0</th>\n",
       "      <th>Company Name</th>\n",
       "      <th>Contact Status</th>\n",
       "      <th>Designation</th>\n",
       "      <th>Designation 2</th>\n",
       "      <th>Designation 3</th>\n",
       "      <th>Detail Tech Requirement</th>\n",
       "      <th>Funding</th>\n",
       "      <th>Location</th>\n",
       "      <th>Requirements</th>\n",
       "      <th>Size</th>\n",
       "    </tr>\n",
       "  </thead>\n",
       "  <tbody>\n",
       "    <tr>\n",
       "      <th>4469</th>\n",
       "      <td>838</td>\n",
       "      <td>Nagarro</td>\n",
       "      <td>Reminded2</td>\n",
       "      <td>COO</td>\n",
       "      <td>Director HR</td>\n",
       "      <td>VP Eng</td>\n",
       "      <td>Software</td>\n",
       "      <td>NaN</td>\n",
       "      <td>Gurgaon</td>\n",
       "      <td>Garima.negi@nagarro.com</td>\n",
       "      <td>1001-5000</td>\n",
       "    </tr>\n",
       "  </tbody>\n",
       "</table>\n",
       "</div>"
      ],
      "text/plain": [
       "      Unnamed: 0 Company Name Contact Status Designation Designation 2  \\\n",
       "4469         838      Nagarro      Reminded2         COO   Director HR   \n",
       "\n",
       "     Designation 3 Detail Tech Requirement Funding Location  \\\n",
       "4469        VP Eng                Software     NaN  Gurgaon   \n",
       "\n",
       "                 Requirements       Size  \n",
       "4469  Garima.negi@nagarro.com  1001-5000  "
      ]
     },
     "execution_count": 24,
     "metadata": {},
     "output_type": "execute_result"
    }
   ],
   "source": [
    "d[4469:4470]"
   ]
  },
  {
   "cell_type": "code",
   "execution_count": null,
   "metadata": {
    "colab": {},
    "colab_type": "code",
    "id": "rhNiTXPaU8K2",
    "outputId": "032b25bc-cb5c-48a3-9bb2-5a7fb6d052fd"
   },
   "outputs": [
    {
     "data": {
      "text/html": [
       "<div>\n",
       "<style scoped>\n",
       "    .dataframe tbody tr th:only-of-type {\n",
       "        vertical-align: middle;\n",
       "    }\n",
       "\n",
       "    .dataframe tbody tr th {\n",
       "        vertical-align: top;\n",
       "    }\n",
       "\n",
       "    .dataframe thead th {\n",
       "        text-align: right;\n",
       "    }\n",
       "</style>\n",
       "<table border=\"1\" class=\"dataframe\">\n",
       "  <thead>\n",
       "    <tr style=\"text-align: right;\">\n",
       "      <th></th>\n",
       "      <th>Unnamed: 0</th>\n",
       "      <th>Company Name</th>\n",
       "      <th>Contact Status</th>\n",
       "      <th>Designation</th>\n",
       "      <th>Designation 2</th>\n",
       "      <th>Designation 3</th>\n",
       "      <th>Detail Tech Requirement</th>\n",
       "      <th>Funding</th>\n",
       "      <th>Location</th>\n",
       "      <th>Requirements</th>\n",
       "      <th>Size</th>\n",
       "    </tr>\n",
       "  </thead>\n",
       "  <tbody>\n",
       "    <tr>\n",
       "      <th>4837</th>\n",
       "      <td>1206</td>\n",
       "      <td>Aha Taxis</td>\n",
       "      <td>Reminded2</td>\n",
       "      <td>NaN</td>\n",
       "      <td>NaN</td>\n",
       "      <td>NaN</td>\n",
       "      <td>NaN</td>\n",
       "      <td>NaN</td>\n",
       "      <td>NaN</td>\n",
       "      <td>amit@ahataxis.com</td>\n",
       "      <td>NaN</td>\n",
       "    </tr>\n",
       "    <tr>\n",
       "      <th>4838</th>\n",
       "      <td>1207</td>\n",
       "      <td>Alma Connect</td>\n",
       "      <td>Reminded2</td>\n",
       "      <td>NaN</td>\n",
       "      <td>NaN</td>\n",
       "      <td>NaN</td>\n",
       "      <td>NaN</td>\n",
       "      <td>NaN</td>\n",
       "      <td>NaN</td>\n",
       "      <td>rubish@almaconnect.com</td>\n",
       "      <td>NaN</td>\n",
       "    </tr>\n",
       "    <tr>\n",
       "      <th>4839</th>\n",
       "      <td>1208</td>\n",
       "      <td>Fab Bag</td>\n",
       "      <td>Reminded2</td>\n",
       "      <td>NaN</td>\n",
       "      <td>NaN</td>\n",
       "      <td>NaN</td>\n",
       "      <td>NaN</td>\n",
       "      <td>NaN</td>\n",
       "      <td>NaN</td>\n",
       "      <td>vineeta@fabbag.com</td>\n",
       "      <td>NaN</td>\n",
       "    </tr>\n",
       "    <tr>\n",
       "      <th>4840</th>\n",
       "      <td>1209</td>\n",
       "      <td>Tushky.Com</td>\n",
       "      <td>Reminded2</td>\n",
       "      <td>NaN</td>\n",
       "      <td>NaN</td>\n",
       "      <td>NaN</td>\n",
       "      <td>NaN</td>\n",
       "      <td>NaN</td>\n",
       "      <td>NaN</td>\n",
       "      <td>kunal@tushky.com</td>\n",
       "      <td>NaN</td>\n",
       "    </tr>\n",
       "    <tr>\n",
       "      <th>4841</th>\n",
       "      <td>1210</td>\n",
       "      <td>Origa Leasing</td>\n",
       "      <td>Reminded2</td>\n",
       "      <td>NaN</td>\n",
       "      <td>NaN</td>\n",
       "      <td>NaN</td>\n",
       "      <td>NaN</td>\n",
       "      <td>NaN</td>\n",
       "      <td>NaN</td>\n",
       "      <td>shrirang@origaleasing.com</td>\n",
       "      <td>NaN</td>\n",
       "    </tr>\n",
       "    <tr>\n",
       "      <th>4842</th>\n",
       "      <td>1211</td>\n",
       "      <td>Wishberg</td>\n",
       "      <td>Reminded2</td>\n",
       "      <td>NaN</td>\n",
       "      <td>NaN</td>\n",
       "      <td>NaN</td>\n",
       "      <td>NaN</td>\n",
       "      <td>NaN</td>\n",
       "      <td>NaN</td>\n",
       "      <td>pravin@wishberg.com</td>\n",
       "      <td>NaN</td>\n",
       "    </tr>\n",
       "  </tbody>\n",
       "</table>\n",
       "</div>"
      ],
      "text/plain": [
       "      Unnamed: 0   Company Name Contact Status Designation Designation 2  \\\n",
       "4837        1206      Aha Taxis      Reminded2         NaN           NaN   \n",
       "4838        1207   Alma Connect      Reminded2         NaN           NaN   \n",
       "4839        1208        Fab Bag      Reminded2         NaN           NaN   \n",
       "4840        1209     Tushky.Com      Reminded2         NaN           NaN   \n",
       "4841        1210  Origa Leasing      Reminded2         NaN           NaN   \n",
       "4842        1211       Wishberg      Reminded2         NaN           NaN   \n",
       "\n",
       "     Designation 3 Detail Tech Requirement Funding Location  \\\n",
       "4837           NaN                     NaN     NaN      NaN   \n",
       "4838           NaN                     NaN     NaN      NaN   \n",
       "4839           NaN                     NaN     NaN      NaN   \n",
       "4840           NaN                     NaN     NaN      NaN   \n",
       "4841           NaN                     NaN     NaN      NaN   \n",
       "4842           NaN                     NaN     NaN      NaN   \n",
       "\n",
       "                   Requirements Size  \n",
       "4837          amit@ahataxis.com  NaN  \n",
       "4838     rubish@almaconnect.com  NaN  \n",
       "4839         vineeta@fabbag.com  NaN  \n",
       "4840           kunal@tushky.com  NaN  \n",
       "4841  shrirang@origaleasing.com  NaN  \n",
       "4842        pravin@wishberg.com  NaN  "
      ]
     },
     "execution_count": 25,
     "metadata": {},
     "output_type": "execute_result"
    }
   ],
   "source": [
    "d[4837:4843]"
   ]
  },
  {
   "cell_type": "code",
   "execution_count": null,
   "metadata": {
    "colab": {},
    "colab_type": "code",
    "id": "Jlhh_glLU8K5",
    "outputId": "9f6351fb-81f0-4822-d8f3-05ef0de79695"
   },
   "outputs": [
    {
     "data": {
      "text/html": [
       "<div>\n",
       "<style scoped>\n",
       "    .dataframe tbody tr th:only-of-type {\n",
       "        vertical-align: middle;\n",
       "    }\n",
       "\n",
       "    .dataframe tbody tr th {\n",
       "        vertical-align: top;\n",
       "    }\n",
       "\n",
       "    .dataframe thead th {\n",
       "        text-align: right;\n",
       "    }\n",
       "</style>\n",
       "<table border=\"1\" class=\"dataframe\">\n",
       "  <thead>\n",
       "    <tr style=\"text-align: right;\">\n",
       "      <th></th>\n",
       "      <th>Unnamed: 0</th>\n",
       "      <th>Company Name</th>\n",
       "      <th>Contact Status</th>\n",
       "      <th>Designation</th>\n",
       "      <th>Designation 2</th>\n",
       "      <th>Designation 3</th>\n",
       "      <th>Detail Tech Requirement</th>\n",
       "      <th>Funding</th>\n",
       "      <th>Location</th>\n",
       "      <th>Requirements</th>\n",
       "      <th>Size</th>\n",
       "    </tr>\n",
       "  </thead>\n",
       "  <tbody>\n",
       "    <tr>\n",
       "      <th>5751</th>\n",
       "      <td>2120</td>\n",
       "      <td>CIGNEX Datamatics</td>\n",
       "      <td>Reminded2</td>\n",
       "      <td>VP TA</td>\n",
       "      <td>VP HR</td>\n",
       "      <td>VP Tech</td>\n",
       "      <td>Software</td>\n",
       "      <td>NaN</td>\n",
       "      <td>Ahmedabad</td>\n",
       "      <td>Harish.Ramachandran@cignex.com</td>\n",
       "      <td>501-1000</td>\n",
       "    </tr>\n",
       "  </tbody>\n",
       "</table>\n",
       "</div>"
      ],
      "text/plain": [
       "      Unnamed: 0       Company Name Contact Status Designation Designation 2  \\\n",
       "5751        2120  CIGNEX Datamatics      Reminded2       VP TA         VP HR   \n",
       "\n",
       "     Designation 3 Detail Tech Requirement Funding   Location  \\\n",
       "5751       VP Tech                Software     NaN  Ahmedabad   \n",
       "\n",
       "                        Requirements      Size  \n",
       "5751  Harish.Ramachandran@cignex.com  501-1000  "
      ]
     },
     "execution_count": 26,
     "metadata": {},
     "output_type": "execute_result"
    }
   ],
   "source": [
    "d[5751:5752]"
   ]
  },
  {
   "cell_type": "code",
   "execution_count": null,
   "metadata": {
    "colab": {},
    "colab_type": "code",
    "id": "rO0m7FhKU8K-",
    "outputId": "8b99d6fd-f247-4539-a2da-18cce59d68dd"
   },
   "outputs": [
    {
     "data": {
      "text/html": [
       "<div>\n",
       "<style scoped>\n",
       "    .dataframe tbody tr th:only-of-type {\n",
       "        vertical-align: middle;\n",
       "    }\n",
       "\n",
       "    .dataframe tbody tr th {\n",
       "        vertical-align: top;\n",
       "    }\n",
       "\n",
       "    .dataframe thead th {\n",
       "        text-align: right;\n",
       "    }\n",
       "</style>\n",
       "<table border=\"1\" class=\"dataframe\">\n",
       "  <thead>\n",
       "    <tr style=\"text-align: right;\">\n",
       "      <th></th>\n",
       "      <th>Unnamed: 0</th>\n",
       "      <th>Company Name</th>\n",
       "      <th>Contact Status</th>\n",
       "      <th>Designation</th>\n",
       "      <th>Designation 2</th>\n",
       "      <th>Designation 3</th>\n",
       "      <th>Detail Tech Requirement</th>\n",
       "      <th>Funding</th>\n",
       "      <th>Location</th>\n",
       "      <th>Requirements</th>\n",
       "      <th>Size</th>\n",
       "    </tr>\n",
       "  </thead>\n",
       "  <tbody>\n",
       "    <tr>\n",
       "      <th>5897</th>\n",
       "      <td>2266</td>\n",
       "      <td>JM Financial</td>\n",
       "      <td>Reminded2</td>\n",
       "      <td>SVP</td>\n",
       "      <td>Head HR</td>\n",
       "      <td>VP HR</td>\n",
       "      <td>Software</td>\n",
       "      <td>NaN</td>\n",
       "      <td>Mumbai</td>\n",
       "      <td>piyush.mistry@jmfl.com</td>\n",
       "      <td>501-1000</td>\n",
       "    </tr>\n",
       "  </tbody>\n",
       "</table>\n",
       "</div>"
      ],
      "text/plain": [
       "      Unnamed: 0  Company Name Contact Status Designation Designation 2  \\\n",
       "5897        2266  JM Financial      Reminded2         SVP       Head HR   \n",
       "\n",
       "     Designation 3 Detail Tech Requirement Funding Location  \\\n",
       "5897         VP HR                Software     NaN   Mumbai   \n",
       "\n",
       "                Requirements      Size  \n",
       "5897  piyush.mistry@jmfl.com  501-1000  "
      ]
     },
     "execution_count": 27,
     "metadata": {},
     "output_type": "execute_result"
    }
   ],
   "source": [
    "d[5897:5898]"
   ]
  },
  {
   "cell_type": "code",
   "execution_count": null,
   "metadata": {
    "colab": {},
    "colab_type": "code",
    "id": "Lwpt9uPzU8LC"
   },
   "outputs": [],
   "source": [
    "feature_list = dict.keys()\n",
    "zero_data = np.zeros(shape=(len(data),len(feature_list)))\n",
    "new_d = pd.DataFrame(zero_data, columns=feature_list)"
   ]
  },
  {
   "cell_type": "code",
   "execution_count": null,
   "metadata": {
    "colab": {},
    "colab_type": "code",
    "id": "7B29B4FAU8LE",
    "outputId": "4154fa74-55c9-4fb9-ad86-731e7a140209"
   },
   "outputs": [
    {
     "data": {
      "text/html": [
       "<div>\n",
       "<style scoped>\n",
       "    .dataframe tbody tr th:only-of-type {\n",
       "        vertical-align: middle;\n",
       "    }\n",
       "\n",
       "    .dataframe tbody tr th {\n",
       "        vertical-align: top;\n",
       "    }\n",
       "\n",
       "    .dataframe thead th {\n",
       "        text-align: right;\n",
       "    }\n",
       "</style>\n",
       "<table border=\"1\" class=\"dataframe\">\n",
       "  <thead>\n",
       "    <tr style=\"text-align: right;\">\n",
       "      <th></th>\n",
       "      <th>Unnamed: 0</th>\n",
       "      <th>Company Name</th>\n",
       "      <th>Contact Status</th>\n",
       "      <th>Designation</th>\n",
       "      <th>Designation 2</th>\n",
       "      <th>Designation 3</th>\n",
       "      <th>Detail Tech Requirement</th>\n",
       "      <th>Funding</th>\n",
       "      <th>Location</th>\n",
       "      <th>Requirements</th>\n",
       "      <th>Size</th>\n",
       "    </tr>\n",
       "  </thead>\n",
       "  <tbody>\n",
       "    <tr>\n",
       "      <th>0</th>\n",
       "      <td>0</td>\n",
       "      <td>10Times</td>\n",
       "      <td>Reminded2</td>\n",
       "      <td>F</td>\n",
       "      <td>CF/CEO</td>\n",
       "      <td>NaN</td>\n",
       "      <td>NaN</td>\n",
       "      <td>NaN</td>\n",
       "      <td>Noida, Delhi</td>\n",
       "      <td>Back End</td>\n",
       "      <td>51-200</td>\n",
       "    </tr>\n",
       "    <tr>\n",
       "      <th>1</th>\n",
       "      <td>1</td>\n",
       "      <td>1Mg.Com</td>\n",
       "      <td>Reminded2</td>\n",
       "      <td>F</td>\n",
       "      <td>CF/CTO</td>\n",
       "      <td>NaN</td>\n",
       "      <td>NaN</td>\n",
       "      <td>NaN</td>\n",
       "      <td>Gurgaon</td>\n",
       "      <td>Full Stack, Front End</td>\n",
       "      <td>201-500</td>\n",
       "    </tr>\n",
       "    <tr>\n",
       "      <th>2</th>\n",
       "      <td>2</td>\n",
       "      <td>1Thing: Your Right Design Team</td>\n",
       "      <td>Reminded2</td>\n",
       "      <td>F/CF/VP</td>\n",
       "      <td>F/CF</td>\n",
       "      <td>NaN</td>\n",
       "      <td>NaN</td>\n",
       "      <td>NaN</td>\n",
       "      <td>Gurgaon, Delhi</td>\n",
       "      <td>ReactJS</td>\n",
       "      <td>11-50</td>\n",
       "    </tr>\n",
       "    <tr>\n",
       "      <th>3</th>\n",
       "      <td>3</td>\n",
       "      <td>23Bytes</td>\n",
       "      <td>Reminded2</td>\n",
       "      <td>F/Director</td>\n",
       "      <td>NaN</td>\n",
       "      <td>NaN</td>\n",
       "      <td>NaN</td>\n",
       "      <td>NaN</td>\n",
       "      <td>Gurgaon</td>\n",
       "      <td>Front End</td>\n",
       "      <td>11-50</td>\n",
       "    </tr>\n",
       "    <tr>\n",
       "      <th>4</th>\n",
       "      <td>4</td>\n",
       "      <td>360Growe</td>\n",
       "      <td>Reminded2</td>\n",
       "      <td>F/CEO</td>\n",
       "      <td>NaN</td>\n",
       "      <td>NaN</td>\n",
       "      <td>NaN</td>\n",
       "      <td>NaN</td>\n",
       "      <td>Gurgaon</td>\n",
       "      <td>Software, Front End</td>\n",
       "      <td>0-10</td>\n",
       "    </tr>\n",
       "  </tbody>\n",
       "</table>\n",
       "</div>"
      ],
      "text/plain": [
       "   Unnamed: 0                    Company Name Contact Status Designation  \\\n",
       "0           0                         10Times      Reminded2           F   \n",
       "1           1                         1Mg.Com      Reminded2           F   \n",
       "2           2  1Thing: Your Right Design Team      Reminded2     F/CF/VP   \n",
       "3           3                         23Bytes      Reminded2  F/Director   \n",
       "4           4                        360Growe      Reminded2       F/CEO   \n",
       "\n",
       "  Designation 2 Designation 3 Detail Tech Requirement Funding        Location  \\\n",
       "0        CF/CEO           NaN                     NaN     NaN    Noida, Delhi   \n",
       "1        CF/CTO           NaN                     NaN     NaN         Gurgaon   \n",
       "2          F/CF           NaN                     NaN     NaN  Gurgaon, Delhi   \n",
       "3           NaN           NaN                     NaN     NaN         Gurgaon   \n",
       "4           NaN           NaN                     NaN     NaN         Gurgaon   \n",
       "\n",
       "            Requirements     Size  \n",
       "0               Back End   51-200  \n",
       "1  Full Stack, Front End  201-500  \n",
       "2                ReactJS    11-50  \n",
       "3              Front End    11-50  \n",
       "4    Software, Front End     0-10  "
      ]
     },
     "execution_count": 29,
     "metadata": {},
     "output_type": "execute_result"
    }
   ],
   "source": [
    "d.head()"
   ]
  },
  {
   "cell_type": "markdown",
   "metadata": {
    "colab": {},
    "colab_type": "code",
    "id": "IUa3WPrPU8LK"
   },
   "source": [
    "__Convert this dictionary into dataset__"
   ]
  },
  {
   "cell_type": "code",
   "execution_count": null,
   "metadata": {
    "colab": {},
    "colab_type": "code",
    "id": "5LV8uA8OU8QO"
   },
   "outputs": [],
   "source": [
    "for k in range(len(new_d)):\n",
    "    for i in  dict.keys():\n",
    "        for j in dict[i]:\n",
    "            new_d[i][j] = 1 "
   ]
  },
  {
   "cell_type": "code",
   "execution_count": null,
   "metadata": {
    "colab": {},
    "colab_type": "code",
    "id": "WYB7WXybU8QP"
   },
   "outputs": [],
   "source": [
    "type(new_d)"
   ]
  },
  {
   "cell_type": "code",
   "execution_count": null,
   "metadata": {},
   "outputs": [],
   "source": [
    "new_d.shape"
   ]
  },
  {
   "cell_type": "code",
   "execution_count": null,
   "metadata": {},
   "outputs": [],
   "source": [
    "data.shape"
   ]
  },
  {
   "cell_type": "code",
   "execution_count": null,
   "metadata": {},
   "outputs": [],
   "source": [
    "import csv\n",
    "new_d.to_csv(\"Requirements.csv\")"
   ]
  },
  {
   "cell_type": "code",
   "execution_count": null,
   "metadata": {},
   "outputs": [],
   "source": [
    "req_data = pd.read_csv(\"Requirements.csv\")\n",
    "# whole_data = pd.concat([data, req_data])\n",
    "# req_data.drop(columns=\"Unnamed: 0\", inplace = True)\n",
    "req_data.head()"
   ]
  },
  {
   "cell_type": "code",
   "execution_count": null,
   "metadata": {},
   "outputs": [],
   "source": [
    "data.head()"
   ]
  },
  {
   "cell_type": "code",
   "execution_count": null,
   "metadata": {},
   "outputs": [],
   "source": [
    "for i in req_data.columns:\n",
    "    if \"@\" in i:\n",
    "        req_data.drop(columns=i, inplace=True)"
   ]
  },
  {
   "cell_type": "code",
   "execution_count": null,
   "metadata": {},
   "outputs": [],
   "source": [
    "req_data.shape"
   ]
  },
  {
   "cell_type": "code",
   "execution_count": null,
   "metadata": {},
   "outputs": [],
   "source": [
    "# whole_data.drop(columns=\"Unnamed: 33\", inplace =True)\n",
    "# whole_data.backend[:2], req_data.backend[:2]"
   ]
  },
  {
   "cell_type": "code",
   "execution_count": null,
   "metadata": {},
   "outputs": [],
   "source": [
    "whole_data.columns"
   ]
  },
  {
   "cell_type": "code",
   "execution_count": null,
   "metadata": {},
   "outputs": [],
   "source": [
    "list_req = req_data.columns"
   ]
  },
  {
   "cell_type": "code",
   "execution_count": null,
   "metadata": {},
   "outputs": [],
   "source": [
    "for i in whole_data.columns:\n",
    "    if i in list_req:\n",
    "        whole_data[i].fillna(0, inplace=True)"
   ]
  },
  {
   "cell_type": "code",
   "execution_count": null,
   "metadata": {},
   "outputs": [],
   "source": [
    "whole_data.head()"
   ]
  },
  {
   "cell_type": "code",
   "execution_count": null,
   "metadata": {},
   "outputs": [],
   "source": [
    "data.head()"
   ]
  },
  {
   "cell_type": "code",
   "execution_count": null,
   "metadata": {},
   "outputs": [],
   "source": [
    "data.drop(columns=[\"Detail Tech Requirement\", \"Requirements\"], inplace = True)"
   ]
  },
  {
   "cell_type": "code",
   "execution_count": null,
   "metadata": {},
   "outputs": [],
   "source": [
    "data.head()"
   ]
  }
 ],
 "metadata": {
  "colab": {
   "collapsed_sections": [],
   "name": "Version_0.0.ipynb",
   "provenance": [],
   "version": "0.3.2"
  },
  "kernelspec": {
   "display_name": "Python 3",
   "language": "python",
   "name": "python3"
  },
  "language_info": {
   "codemirror_mode": {
    "name": "ipython",
    "version": 3
   },
   "file_extension": ".py",
   "mimetype": "text/x-python",
   "name": "python",
   "nbconvert_exporter": "python",
   "pygments_lexer": "ipython3",
   "version": "3.7.1"
  }
 },
 "nbformat": 4,
 "nbformat_minor": 2
}
