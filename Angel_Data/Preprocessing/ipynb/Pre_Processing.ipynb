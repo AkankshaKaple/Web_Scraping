{
 "cells": [
  {
   "cell_type": "code",
   "execution_count": 89,
   "metadata": {},
   "outputs": [],
   "source": [
    "import pandas as pd\n",
    "import numpy as np\n",
    "import matplotlib.pyplot as plt\n",
    "import seaborn as sb\n",
    "import warnings\n",
    "warnings.filterwarnings('ignore')"
   ]
  },
  {
   "cell_type": "code",
   "execution_count": 90,
   "metadata": {},
   "outputs": [
    {
     "data": {
      "text/html": [
       "<div>\n",
       "<style scoped>\n",
       "    .dataframe tbody tr th:only-of-type {\n",
       "        vertical-align: middle;\n",
       "    }\n",
       "\n",
       "    .dataframe tbody tr th {\n",
       "        vertical-align: top;\n",
       "    }\n",
       "\n",
       "    .dataframe thead th {\n",
       "        text-align: right;\n",
       "    }\n",
       "</style>\n",
       "<table border=\"1\" class=\"dataframe\">\n",
       "  <thead>\n",
       "    <tr style=\"text-align: right;\">\n",
       "      <th></th>\n",
       "      <th>Unnamed: 0</th>\n",
       "      <th>Contact Status</th>\n",
       "      <th>Designation</th>\n",
       "      <th>Designation 2</th>\n",
       "      <th>Designation 3</th>\n",
       "      <th>Detail Tech Requirement</th>\n",
       "      <th>Funding</th>\n",
       "      <th>Location</th>\n",
       "      <th>Requirements</th>\n",
       "      <th>Size</th>\n",
       "    </tr>\n",
       "  </thead>\n",
       "  <tbody>\n",
       "    <tr>\n",
       "      <th>0</th>\n",
       "      <td>0</td>\n",
       "      <td>0</td>\n",
       "      <td>F</td>\n",
       "      <td>CF/CEO</td>\n",
       "      <td>NaN</td>\n",
       "      <td>NaN</td>\n",
       "      <td>NaN</td>\n",
       "      <td>Noida, Delhi</td>\n",
       "      <td>Back End</td>\n",
       "      <td>51-200</td>\n",
       "    </tr>\n",
       "    <tr>\n",
       "      <th>1</th>\n",
       "      <td>1</td>\n",
       "      <td>0</td>\n",
       "      <td>F</td>\n",
       "      <td>CF/CTO</td>\n",
       "      <td>NaN</td>\n",
       "      <td>NaN</td>\n",
       "      <td>NaN</td>\n",
       "      <td>Gurgaon</td>\n",
       "      <td>Full Stack, Front End</td>\n",
       "      <td>201-500</td>\n",
       "    </tr>\n",
       "    <tr>\n",
       "      <th>2</th>\n",
       "      <td>2</td>\n",
       "      <td>0</td>\n",
       "      <td>F/CF/VP</td>\n",
       "      <td>F/CF</td>\n",
       "      <td>NaN</td>\n",
       "      <td>NaN</td>\n",
       "      <td>NaN</td>\n",
       "      <td>Gurgaon, Delhi</td>\n",
       "      <td>ReactJS</td>\n",
       "      <td>11-50</td>\n",
       "    </tr>\n",
       "    <tr>\n",
       "      <th>3</th>\n",
       "      <td>3</td>\n",
       "      <td>0</td>\n",
       "      <td>F/Director</td>\n",
       "      <td>NaN</td>\n",
       "      <td>NaN</td>\n",
       "      <td>NaN</td>\n",
       "      <td>NaN</td>\n",
       "      <td>Gurgaon</td>\n",
       "      <td>Front End</td>\n",
       "      <td>11-50</td>\n",
       "    </tr>\n",
       "    <tr>\n",
       "      <th>4</th>\n",
       "      <td>4</td>\n",
       "      <td>0</td>\n",
       "      <td>F/CEO</td>\n",
       "      <td>NaN</td>\n",
       "      <td>NaN</td>\n",
       "      <td>NaN</td>\n",
       "      <td>NaN</td>\n",
       "      <td>Gurgaon</td>\n",
       "      <td>Software, Front End</td>\n",
       "      <td>0-10</td>\n",
       "    </tr>\n",
       "  </tbody>\n",
       "</table>\n",
       "</div>"
      ],
      "text/plain": [
       "   Unnamed: 0  Contact Status Designation Designation 2 Designation 3  \\\n",
       "0           0               0           F        CF/CEO           NaN   \n",
       "1           1               0           F        CF/CTO           NaN   \n",
       "2           2               0     F/CF/VP          F/CF           NaN   \n",
       "3           3               0  F/Director           NaN           NaN   \n",
       "4           4               0       F/CEO           NaN           NaN   \n",
       "\n",
       "  Detail Tech Requirement Funding        Location           Requirements  \\\n",
       "0                     NaN     NaN    Noida, Delhi               Back End   \n",
       "1                     NaN     NaN         Gurgaon  Full Stack, Front End   \n",
       "2                     NaN     NaN  Gurgaon, Delhi                ReactJS   \n",
       "3                     NaN     NaN         Gurgaon              Front End   \n",
       "4                     NaN     NaN         Gurgaon    Software, Front End   \n",
       "\n",
       "      Size  \n",
       "0   51-200  \n",
       "1  201-500  \n",
       "2    11-50  \n",
       "3    11-50  \n",
       "4     0-10  "
      ]
     },
     "execution_count": 90,
     "metadata": {},
     "output_type": "execute_result"
    }
   ],
   "source": [
    "data = pd.read_csv(\"Column_Selection.csv\")\n",
    "data.head()"
   ]
  },
  {
   "cell_type": "code",
   "execution_count": 3,
   "metadata": {},
   "outputs": [
    {
     "data": {
      "text/html": [
       "<div>\n",
       "<style scoped>\n",
       "    .dataframe tbody tr th:only-of-type {\n",
       "        vertical-align: middle;\n",
       "    }\n",
       "\n",
       "    .dataframe tbody tr th {\n",
       "        vertical-align: top;\n",
       "    }\n",
       "\n",
       "    .dataframe thead th {\n",
       "        text-align: right;\n",
       "    }\n",
       "</style>\n",
       "<table border=\"1\" class=\"dataframe\">\n",
       "  <thead>\n",
       "    <tr style=\"text-align: right;\">\n",
       "      <th></th>\n",
       "      <th>Unnamed: 0</th>\n",
       "      <th>Contact Status</th>\n",
       "      <th>Designation</th>\n",
       "      <th>Designation 2</th>\n",
       "      <th>Designation 3</th>\n",
       "      <th>Detail Tech Requirement</th>\n",
       "      <th>Funding</th>\n",
       "      <th>Location</th>\n",
       "      <th>Requirements</th>\n",
       "      <th>Size</th>\n",
       "    </tr>\n",
       "  </thead>\n",
       "  <tbody>\n",
       "    <tr>\n",
       "      <th>0</th>\n",
       "      <td>0</td>\n",
       "      <td>0</td>\n",
       "      <td>F</td>\n",
       "      <td>CF/CEO</td>\n",
       "      <td>NaN</td>\n",
       "      <td>NaN</td>\n",
       "      <td>NaN</td>\n",
       "      <td>Noida, Delhi</td>\n",
       "      <td>Back End</td>\n",
       "      <td>51-200</td>\n",
       "    </tr>\n",
       "    <tr>\n",
       "      <th>1</th>\n",
       "      <td>1</td>\n",
       "      <td>0</td>\n",
       "      <td>F</td>\n",
       "      <td>CF/CTO</td>\n",
       "      <td>NaN</td>\n",
       "      <td>NaN</td>\n",
       "      <td>NaN</td>\n",
       "      <td>Gurgaon</td>\n",
       "      <td>Full Stack, Front End</td>\n",
       "      <td>201-500</td>\n",
       "    </tr>\n",
       "    <tr>\n",
       "      <th>2</th>\n",
       "      <td>2</td>\n",
       "      <td>0</td>\n",
       "      <td>F/CF/VP</td>\n",
       "      <td>F/CF</td>\n",
       "      <td>NaN</td>\n",
       "      <td>NaN</td>\n",
       "      <td>NaN</td>\n",
       "      <td>Gurgaon, Delhi</td>\n",
       "      <td>ReactJS</td>\n",
       "      <td>11-50</td>\n",
       "    </tr>\n",
       "    <tr>\n",
       "      <th>3</th>\n",
       "      <td>3</td>\n",
       "      <td>0</td>\n",
       "      <td>F/Director</td>\n",
       "      <td>NaN</td>\n",
       "      <td>NaN</td>\n",
       "      <td>NaN</td>\n",
       "      <td>NaN</td>\n",
       "      <td>Gurgaon</td>\n",
       "      <td>Front End</td>\n",
       "      <td>11-50</td>\n",
       "    </tr>\n",
       "    <tr>\n",
       "      <th>4</th>\n",
       "      <td>4</td>\n",
       "      <td>0</td>\n",
       "      <td>F/CEO</td>\n",
       "      <td>NaN</td>\n",
       "      <td>NaN</td>\n",
       "      <td>NaN</td>\n",
       "      <td>NaN</td>\n",
       "      <td>Gurgaon</td>\n",
       "      <td>Software, Front End</td>\n",
       "      <td>0-10</td>\n",
       "    </tr>\n",
       "  </tbody>\n",
       "</table>\n",
       "</div>"
      ],
      "text/plain": [
       "   Unnamed: 0  Contact Status Designation Designation 2 Designation 3  \\\n",
       "0           0               0           F        CF/CEO           NaN   \n",
       "1           1               0           F        CF/CTO           NaN   \n",
       "2           2               0     F/CF/VP          F/CF           NaN   \n",
       "3           3               0  F/Director           NaN           NaN   \n",
       "4           4               0       F/CEO           NaN           NaN   \n",
       "\n",
       "  Detail Tech Requirement Funding        Location           Requirements  \\\n",
       "0                     NaN     NaN    Noida, Delhi               Back End   \n",
       "1                     NaN     NaN         Gurgaon  Full Stack, Front End   \n",
       "2                     NaN     NaN  Gurgaon, Delhi                ReactJS   \n",
       "3                     NaN     NaN         Gurgaon              Front End   \n",
       "4                     NaN     NaN         Gurgaon    Software, Front End   \n",
       "\n",
       "      Size  \n",
       "0   51-200  \n",
       "1  201-500  \n",
       "2    11-50  \n",
       "3    11-50  \n",
       "4     0-10  "
      ]
     },
     "execution_count": 3,
     "metadata": {},
     "output_type": "execute_result"
    }
   ],
   "source": [
    "data.head()"
   ]
  },
  {
   "cell_type": "markdown",
   "metadata": {},
   "source": [
    "# Location"
   ]
  },
  {
   "cell_type": "code",
   "execution_count": 4,
   "metadata": {},
   "outputs": [],
   "source": [
    "loc = data.Location"
   ]
  },
  {
   "cell_type": "code",
   "execution_count": 5,
   "metadata": {},
   "outputs": [
    {
     "data": {
      "text/plain": [
       "array(['Noida, Delhi', 'Gurgaon', 'Gurgaon, Delhi', 'Noida', 'Delhi',\n",
       "       'Mohali', 'Kolkota', 'Delhi, Mumbai', 'Jaipur', 'Delhi, Gurgaon',\n",
       "       'Delhi, Noida, Gurgaon', 'Jodhpur', 'NCR', 'Aluva', 'Mysore',\n",
       "       'delhi, Bengaluru', 'Chandigarh', 'Gurgaon, Delhi, Noida',\n",
       "       'Delhi , Singapore', 'Delhi, Noida', 'Delhi, Hyderabad, Bengaluru',\n",
       "       'New Delhi', 'Kolkata', 'Gurgaon, Bengaluru',\n",
       "       'Gurgaon, Gurugram, Mumbai', 'Delhi, Bengaluru',\n",
       "       'Gurgaon, Delhi, Gurugram, Gurgaon, Mumbai, Bengaluru, New Delhi',\n",
       "       'Gurgaon, Ahmedabad', 'Gurgaon, Mumbai', 'Dehli',\n",
       "       'Delhi, Pune, Mumbai', 'Gurugaon', 'New Delhi (Hiring in Mumbai)',\n",
       "       'Delhi, Noida, Mumbai', 'Delhi, New Delhi', nan, 'Amritsar',\n",
       "       'Faridabad', 'Delhi, Gurgaon, Noida', 'Noida, Pune',\n",
       "       'Bengaluru, Chennai, Delhi', 'Indore', 'Mumbai', 'Bangalore',\n",
       "       'Pune', 'Bangalore, Pune', 'Mumbai, Pune', 'Ahmedabad',\n",
       "       'Bengaluru', 'Pune, Indore', 'Bangalore, Indore', 'Coimbatore',\n",
       "       'Chennai', 'Chennai/ Bangalore', 'Hyderabad',\n",
       "       'Kolkata, Mumbai, Delhi, Bengaluru', 'Nagpur', 'Nagpur, Pune',\n",
       "       'Hyderabad & Mumbai', 'Bengaluru, Coibatore', 'Bengaluru, Chennai',\n",
       "       'Hyderabad, Bengaluru, Chennai',\n",
       "       'Bengaluru, Hyderabad, Mumbai, Pune, Tamil Nadu',\n",
       "       'Bengaluru, Pune', 'Bengaluru & Hyderabad', 'Bengaluru, Mumbai',\n",
       "       'Bengalore', 'Bengaluru, Mumbai, Indore', 'Bengaluru & Kochi',\n",
       "       'Chennai & Mumbai', 'Kochi', 'Chennai, Mumbai',\n",
       "       'Hyderabad, Mumbai', 'Bengaluru, Pune Hyderabad, Mumbai',\n",
       "       'Bengaluru & Mumbai', 'Bengaluru, Noida, Gurugram',\n",
       "       'Bengaluru & New Delhi', 'Kochi, Mumbai', 'Trivandrum',\n",
       "       'Vishakapatnam', 'Bengaluru & Goa', 'Bengaluru, Delhi & Gurgaon',\n",
       "       'Bengaluru & Ahmedabad', 'Bengaluru, Hyderabad', 'Bengaluru,Pune',\n",
       "       'Bengaluru, Kochi', 'Bengaluru & Pune', 'Bengaluru & Delhi',\n",
       "       'Bengaluru, Chandigarh', 'Htderabad', 'Tumkur,karnataka',\n",
       "       'Hyderabad & Pune', 'Chennai, Bengaluru, Pune', 'Udupi',\n",
       "       'Hyderbad', 'Bengaluru, Mumbai, Gurugram', ' Vijayawada', 'India',\n",
       "       'Ahmedabad & Gurgaon', 'Hubli', 'Andhra pradesh', 'Secunderābād',\n",
       "       'MUMBAI', 'Mumbai, Ukraine', 'Mumbai / Ahmedabad',\n",
       "       'ANDHERI, MUMBAI', 'Mumbai/Gujarat', 'Mumbai/Bengaluru', 'Vadodra',\n",
       "       'Navi Mumbai', 'Mumbai, Chennai', 'MUMBAI SAN FRANSISCO',\n",
       "       'Gandhinagar', 'Nashik', 'Goa, Mumbai, Bengaluru, Hyderabad',\n",
       "       'MUMBAI, Toronto', 'Goa', 'Pune, mumbai', 'Japan, Mumbai',\n",
       "       'Banglore, Mumbai', 'Ahmadabad', 'Surat', 'Vadodara',\n",
       "       'Mumbai/Pune', 'New Delhi, Mumbai', 'Ahmedabad, Pune', 'Baroda',\n",
       "       'Bhilai', 'Gujarat', 'Rajkot', 'Colorado', 'vizag', 'Udipi',\n",
       "       'Bhopal', 'Noida, Delhi/NCR', 'South Delhi', 'UP',\n",
       "       'Gurugram, Haryana', 'Kanpur,UP', 'Banglore',\n",
       "       'Kolkata, West Bengal', 'Bangluru,karnataka', 'Haryana'],\n",
       "      dtype=object)"
      ]
     },
     "execution_count": 5,
     "metadata": {},
     "output_type": "execute_result"
    }
   ],
   "source": [
    "data.Location.unique()"
   ]
  },
  {
   "cell_type": "markdown",
   "metadata": {},
   "source": [
    "# Change Gurugoan by Gurgaon "
   ]
  },
  {
   "cell_type": "code",
   "execution_count": 6,
   "metadata": {},
   "outputs": [],
   "source": [
    "import re\n",
    "location = []\n",
    "for i in range(len(data)):\n",
    "    value = re.split('; |, |/',str(loc[i]))\n",
    "    if \"Gurugoan\" in value:\n",
    "        words = [w.replace('Gurugoan', 'Gurgaon') for w in re.split('; |, |/',str(data[\"Location\"][i]))]\n",
    "        location.append(words)\n",
    "    else:\n",
    "        location.append(value)"
   ]
  },
  {
   "cell_type": "code",
   "execution_count": 7,
   "metadata": {},
   "outputs": [],
   "source": [
    "lo = ['Bengaluru', 'Mumbai', 'Pune', 'Hyderabad', 'Gurugram', 'Chennai', 'Noida', 'Delhi', 'Kolkata', 'Gurgaon']"
   ]
  },
  {
   "cell_type": "code",
   "execution_count": 8,
   "metadata": {},
   "outputs": [
    {
     "name": "stderr",
     "output_type": "stream",
     "text": [
      "IOPub data rate exceeded.\n",
      "The notebook server will temporarily stop sending output\n",
      "to the client in order to avoid crashing it.\n",
      "To change this limit, set the config variable\n",
      "`--NotebookApp.iopub_data_rate_limit`.\n",
      "\n",
      "Current values:\n",
      "NotebookApp.iopub_data_rate_limit=1000000.0 (bytes/sec)\n",
      "NotebookApp.rate_limit_window=3.0 (secs)\n",
      "\n"
     ]
    }
   ],
   "source": [
    "import itertools\n",
    "loc_dict = {}\n",
    "\n",
    "for i in range(len(data)):\n",
    "    for j in location[i]:\n",
    "        if j in lo and j in loc_dict.keys():\n",
    "            c = []\n",
    "            c.append(loc_dict[j])\n",
    "            c.append([i])\n",
    "            merged = list(itertools.chain(*c))\n",
    "            loc_dict[j] = merged\n",
    "        elif j not in lo and \"Others\" in loc_dict.keys():\n",
    "            c = []\n",
    "            c.append(loc_dict[\"Others\"])\n",
    "            c.append([i])\n",
    "            merged = list(itertools.chain(*c))\n",
    "            loc_dict[\"Others\"] = merged\n",
    "        elif j not in loc_dict.keys():\n",
    "            if j in lo:\n",
    "                loc_dict[j] = [i]  \n",
    "            else:\n",
    "                loc_dict[\"Others\"] = [i]\n",
    "        print(loc_dict)"
   ]
  },
  {
   "cell_type": "code",
   "execution_count": 9,
   "metadata": {},
   "outputs": [
    {
     "data": {
      "text/plain": [
       "2438"
      ]
     },
     "execution_count": 9,
     "metadata": {},
     "output_type": "execute_result"
    }
   ],
   "source": [
    "len(loc_dict[\"Others\"])"
   ]
  },
  {
   "cell_type": "code",
   "execution_count": 10,
   "metadata": {},
   "outputs": [],
   "source": [
    "feature_list = loc_dict.keys()\n",
    "zero_data = np.zeros(shape=(len(data),len(feature_list)))\n",
    "new_d = pd.DataFrame(zero_data, columns=feature_list)"
   ]
  },
  {
   "cell_type": "code",
   "execution_count": null,
   "metadata": {},
   "outputs": [],
   "source": [
    "# for k in range(len(new_d)):\n",
    "#     for i in  loc_dict.keys():\n",
    "#         for j in loc_dict[i]:\n",
    "#             new_d[i][j] = 1 "
   ]
  },
  {
   "cell_type": "code",
   "execution_count": null,
   "metadata": {},
   "outputs": [],
   "source": [
    "# import csv\n",
    "# new_d.to_csv(\"Location.csv\")"
   ]
  },
  {
   "cell_type": "markdown",
   "metadata": {},
   "source": [
    "# Designation"
   ]
  },
  {
   "cell_type": "markdown",
   "metadata": {},
   "source": [
    "__Here replace designation of the contact person by one which it at higher rank in hierarchy__"
   ]
  },
  {
   "cell_type": "code",
   "execution_count": 91,
   "metadata": {},
   "outputs": [],
   "source": [
    "data[\"Designation\"].fillna(\"Missing\", inplace=True)\n",
    "data[\"Designation 2\"].fillna(\"Missing\", inplace=True)\n",
    "data[\"Designation 3\"].fillna(\"Missing\", inplace=True)"
   ]
  },
  {
   "cell_type": "code",
   "execution_count": 92,
   "metadata": {},
   "outputs": [],
   "source": [
    "data[\"combined\"] = data[\"Designation\"].str.cat(data[[\"Designation\", \"Designation 2\", \"Designation 3\"]].astype(str), sep=\"/\")"
   ]
  },
  {
   "cell_type": "code",
   "execution_count": 93,
   "metadata": {},
   "outputs": [],
   "source": [
    "comb = (data.combined).str.split(\"/\")"
   ]
  },
  {
   "cell_type": "code",
   "execution_count": 94,
   "metadata": {},
   "outputs": [],
   "source": [
    "founder = [\"F\",\"Founder\",\"CF\", \"Co-founder\", \"President\", \"Director\", \"MD\", \"Founder & CEO\"\n",
    "           , \"Owner\", \"cbo\", \"CEO & Cofounder\",'Co-Founder & CTO', 'Co-Founder', 'Co-Founder & CPO'\n",
    "           ,'Co-Founder & MD',  'Co-founder & CBO','CEO & Founder','CEO & Cofounder', 'Co-Founder', 'Co-founder', 'Sugandhi'\n",
    "           ,'Co-Founder & CPO', 'Co-Founder & CEO', 'Co-Founder & CTO','CoFounder & CEO', 'Co-Founder & MD'\n",
    "           , 'Co-founder & CTO','MD & CEO','Cofounder & COO', 'Cofounder', 'Founder & COO', 'Cofounder & CEO'\n",
    "           , 'Cofouncder & CEO','Founder & MD','Cofounder & CTO','founder']\n",
    "\n",
    "vp = [\"Associate VP\",\"VP\", 'SVP', 'Vice President', 'VP HOO','AVP ','VP HR', 'AVP-Technology','Excecutive Director'\n",
    "     , 'City Head', 'Sr VP']\n",
    "\n",
    "ceo = [\"CEO\", \"CTO\", 'MD & CTO', 'Sr Pricipal Consultant',  'CMO','India Head & Chief Engg Officer','COO', 'CEO & Director']\n",
    "\n",
    "hr = [\"HR\",\" VP HR\", \"Director-HR\", 'Senior Director HR', 'Global Head-HR','Manager HR','Director HR'\n",
    "      ,'HR Director','Tech HR', 'VP HR','Head HR','Director-TA', 'Director-TA']\n",
    "\n",
    "Head_engg = ['Head Engg',\"HR & TA Head\", 'Co-Founder & Data Center Automation Specialist', 'Head od Software Dev'\n",
    "            ,\"Head od Software Dev\", \"TA\", \"Head TA\", 'VP TA', 'Head IT', 'VP IT','Head of India Engg','GM IT'\n",
    "             , 'Director of Technology','VP of rtechnology', 'VP Tech','Director of Engg','GM IT','GM','TA Lead'\n",
    "             ,'VP Tech','Director of Technology','Global Head','Director Technology', 'Head of Tech','Director & Head Engg' \n",
    "            , 'Head of Technology','Head Product Engg', 'Engg Manager', 'Principal Engg','Director Engg', 'Sr TA Manager']"
   ]
  },
  {
   "cell_type": "code",
   "execution_count": 82,
   "metadata": {},
   "outputs": [
    {
     "name": "stdout",
     "output_type": "stream",
     "text": [
      "['F', 'F', 'CF', 'CEO', 'Missing']\n",
      "y\n",
      "['F', 'F', 'CF', 'CTO', 'Missing']\n",
      "y\n",
      "['F', 'CF', 'VP', 'F', 'CF', 'VP', 'F', 'CF', 'Missing']\n",
      "y\n"
     ]
    }
   ],
   "source": [
    "l = []\n",
    "founder = [\"CF\"]\n",
    "for i in comb[:5]:\n",
    "    if any(item in i for item in founder):\n",
    "        print(i)\n",
    "        print(\"y\")\n",
    "#         l.append(\"Founder\")'Director & Head Engg'"
   ]
  },
  {
   "cell_type": "code",
   "execution_count": 95,
   "metadata": {},
   "outputs": [],
   "source": [
    "l = []\n",
    "for i in comb:\n",
    "    if any(item in i for item in founder):\n",
    "        l.append(\"Founder\")\n",
    "    elif any(item in i for item in vp):\n",
    "        l.append(\"VP\")\n",
    "    elif any(item in i for item in ceo):\n",
    "        l.append(\"CEO\")\n",
    "    elif any(item in i for item in hr):\n",
    "        l.append(\"HR\")\n",
    "    elif all(item in i for item in [\"Missing\"]):\n",
    "        l.append(\"Missing\")\n",
    "    elif any(item in i for item in Head_engg):\n",
    "        l.append(\"Head_engg\")\n",
    "    else:\n",
    "        l.append(i[0])"
   ]
  },
  {
   "cell_type": "code",
   "execution_count": 96,
   "metadata": {},
   "outputs": [],
   "source": [
    "data[\"Desingations\"] = l"
   ]
  },
  {
   "cell_type": "code",
   "execution_count": 85,
   "metadata": {},
   "outputs": [
    {
     "data": {
      "text/plain": [
       "Index(['Unnamed: 0', 'Contact Status', 'Designation', 'Designation 2',\n",
       "       'Designation 3', 'Detail Tech Requirement', 'Funding', 'Location',\n",
       "       'Requirements', 'Size', 'combined', 'Desingations'],\n",
       "      dtype='object')"
      ]
     },
     "execution_count": 85,
     "metadata": {},
     "output_type": "execute_result"
    }
   ],
   "source": [
    "data.columns"
   ]
  },
  {
   "cell_type": "code",
   "execution_count": 86,
   "metadata": {},
   "outputs": [
    {
     "data": {
      "text/html": [
       "<div>\n",
       "<style scoped>\n",
       "    .dataframe tbody tr th:only-of-type {\n",
       "        vertical-align: middle;\n",
       "    }\n",
       "\n",
       "    .dataframe tbody tr th {\n",
       "        vertical-align: top;\n",
       "    }\n",
       "\n",
       "    .dataframe thead th {\n",
       "        text-align: right;\n",
       "    }\n",
       "</style>\n",
       "<table border=\"1\" class=\"dataframe\">\n",
       "  <thead>\n",
       "    <tr style=\"text-align: right;\">\n",
       "      <th></th>\n",
       "      <th>Unnamed: 0</th>\n",
       "      <th>Contact Status</th>\n",
       "      <th>Designation</th>\n",
       "      <th>Designation 2</th>\n",
       "      <th>Designation 3</th>\n",
       "      <th>Detail Tech Requirement</th>\n",
       "      <th>Funding</th>\n",
       "      <th>Location</th>\n",
       "      <th>Requirements</th>\n",
       "      <th>Size</th>\n",
       "      <th>combined</th>\n",
       "      <th>Desingations</th>\n",
       "    </tr>\n",
       "  </thead>\n",
       "  <tbody>\n",
       "    <tr>\n",
       "      <th>0</th>\n",
       "      <td>0</td>\n",
       "      <td>0</td>\n",
       "      <td>F</td>\n",
       "      <td>CF/CEO</td>\n",
       "      <td>Missing</td>\n",
       "      <td>NaN</td>\n",
       "      <td>NaN</td>\n",
       "      <td>Noida, Delhi</td>\n",
       "      <td>Back End</td>\n",
       "      <td>51-200</td>\n",
       "      <td>F/F/CF/CEO/Missing</td>\n",
       "      <td>Founder</td>\n",
       "    </tr>\n",
       "    <tr>\n",
       "      <th>1</th>\n",
       "      <td>1</td>\n",
       "      <td>0</td>\n",
       "      <td>F</td>\n",
       "      <td>CF/CTO</td>\n",
       "      <td>Missing</td>\n",
       "      <td>NaN</td>\n",
       "      <td>NaN</td>\n",
       "      <td>Gurgaon</td>\n",
       "      <td>Full Stack, Front End</td>\n",
       "      <td>201-500</td>\n",
       "      <td>F/F/CF/CTO/Missing</td>\n",
       "      <td>Founder</td>\n",
       "    </tr>\n",
       "    <tr>\n",
       "      <th>2</th>\n",
       "      <td>2</td>\n",
       "      <td>0</td>\n",
       "      <td>F/CF/VP</td>\n",
       "      <td>F/CF</td>\n",
       "      <td>Missing</td>\n",
       "      <td>NaN</td>\n",
       "      <td>NaN</td>\n",
       "      <td>Gurgaon, Delhi</td>\n",
       "      <td>ReactJS</td>\n",
       "      <td>11-50</td>\n",
       "      <td>F/CF/VP/F/CF/VP/F/CF/Missing</td>\n",
       "      <td>Founder</td>\n",
       "    </tr>\n",
       "    <tr>\n",
       "      <th>3</th>\n",
       "      <td>3</td>\n",
       "      <td>0</td>\n",
       "      <td>F/Director</td>\n",
       "      <td>Missing</td>\n",
       "      <td>Missing</td>\n",
       "      <td>NaN</td>\n",
       "      <td>NaN</td>\n",
       "      <td>Gurgaon</td>\n",
       "      <td>Front End</td>\n",
       "      <td>11-50</td>\n",
       "      <td>F/Director/F/Director/Missing/Missing</td>\n",
       "      <td>Missing</td>\n",
       "    </tr>\n",
       "    <tr>\n",
       "      <th>4</th>\n",
       "      <td>4</td>\n",
       "      <td>0</td>\n",
       "      <td>F/CEO</td>\n",
       "      <td>Missing</td>\n",
       "      <td>Missing</td>\n",
       "      <td>NaN</td>\n",
       "      <td>NaN</td>\n",
       "      <td>Gurgaon</td>\n",
       "      <td>Software, Front End</td>\n",
       "      <td>0-10</td>\n",
       "      <td>F/CEO/F/CEO/Missing/Missing</td>\n",
       "      <td>CEO</td>\n",
       "    </tr>\n",
       "  </tbody>\n",
       "</table>\n",
       "</div>"
      ],
      "text/plain": [
       "   Unnamed: 0  Contact Status Designation Designation 2 Designation 3  \\\n",
       "0           0               0           F        CF/CEO       Missing   \n",
       "1           1               0           F        CF/CTO       Missing   \n",
       "2           2               0     F/CF/VP          F/CF       Missing   \n",
       "3           3               0  F/Director       Missing       Missing   \n",
       "4           4               0       F/CEO       Missing       Missing   \n",
       "\n",
       "  Detail Tech Requirement Funding        Location           Requirements  \\\n",
       "0                     NaN     NaN    Noida, Delhi               Back End   \n",
       "1                     NaN     NaN         Gurgaon  Full Stack, Front End   \n",
       "2                     NaN     NaN  Gurgaon, Delhi                ReactJS   \n",
       "3                     NaN     NaN         Gurgaon              Front End   \n",
       "4                     NaN     NaN         Gurgaon    Software, Front End   \n",
       "\n",
       "      Size                               combined Desingations  \n",
       "0   51-200                     F/F/CF/CEO/Missing      Founder  \n",
       "1  201-500                     F/F/CF/CTO/Missing      Founder  \n",
       "2    11-50           F/CF/VP/F/CF/VP/F/CF/Missing      Founder  \n",
       "3    11-50  F/Director/F/Director/Missing/Missing      Missing  \n",
       "4     0-10            F/CEO/F/CEO/Missing/Missing          CEO  "
      ]
     },
     "execution_count": 86,
     "metadata": {},
     "output_type": "execute_result"
    }
   ],
   "source": [
    "data.head()"
   ]
  },
  {
   "cell_type": "code",
   "execution_count": 99,
   "metadata": {},
   "outputs": [],
   "source": [
    "import csv\n",
    "data.to_csv(\"Desingation.csv\")"
   ]
  },
  {
   "cell_type": "code",
   "execution_count": 97,
   "metadata": {},
   "outputs": [
    {
     "data": {
      "text/plain": [
       "6"
      ]
     },
     "execution_count": 97,
     "metadata": {},
     "output_type": "execute_result"
    }
   ],
   "source": [
    "len(data[\"Desingations\"].unique())"
   ]
  },
  {
   "cell_type": "code",
   "execution_count": 98,
   "metadata": {},
   "outputs": [
    {
     "data": {
      "text/plain": [
       "array(['Founder', 'Missing', 'VP', 'CEO', 'HR', 'Head_engg'], dtype=object)"
      ]
     },
     "execution_count": 98,
     "metadata": {},
     "output_type": "execute_result"
    }
   ],
   "source": [
    "data[\"Desingations\"].unique()"
   ]
  },
  {
   "cell_type": "code",
   "execution_count": null,
   "metadata": {},
   "outputs": [],
   "source": []
  }
 ],
 "metadata": {
  "kernelspec": {
   "display_name": "Python 3",
   "language": "python",
   "name": "python3"
  },
  "language_info": {
   "codemirror_mode": {
    "name": "ipython",
    "version": 3
   },
   "file_extension": ".py",
   "mimetype": "text/x-python",
   "name": "python",
   "nbconvert_exporter": "python",
   "pygments_lexer": "ipython3",
   "version": "3.7.1"
  }
 },
 "nbformat": 4,
 "nbformat_minor": 2
}
