{
 "cells": [
  {
   "cell_type": "code",
   "execution_count": null,
   "metadata": {
    "colab_type": "text",
    "id": "vq9ya9jtU8Ih"
   },
   "outputs": [],
   "source": [
    "<b>Features:</b> Following are the features in dataset:\n",
    "\n",
    "* __'Added Date'__  --> Date when entry entered\n",
    "* __'BANT Status'__ --> \n",
    "    * __B(Budget)__ - Depends on Funding or Minimum salary that the company gives to freshers\n",
    "    * __A(Authority)__ - Right Contact person\n",
    "    * __N(Need)__ - Company Tech Requirement\n",
    "    * __T(Time Frame)__ - Company has to wait for 4 Months for deployment. \n",
    "* __'Co Linkedin URL'__ --> LinkedIn URL\n",
    "* __'Company Name'__  --> Name of Comapny\n",
    "* __'Contact #2', 'Contact #3'__ --> Contact Number\n",
    "* __'Contact Status'__ --> Company's reaction\n",
    "* __'Designation','Designation 2', 'Designation 3'__ --> Designation of person we are contacting\n",
    "* __'Detail Tech Requirement'__ --> Company's requirments\n",
    "* __'Email', 'Email 2', 'Email 3'__ --> Email id of person we are contacting\n",
    "* __'FollowUp Date'__ --> Date given by comapny to contact back\n",
    "* __'Funding'__ --> Total amount invested into the company\n",
    "* __'Linkedin URL'__ --> LinkedIn URL\n",
    "* __'Location'__ --> Location of headquarter of the comapny\n",
    "* __'Merge status'__ --> Ignore\n",
    "* __'Phone 2', 'Phone 3', 'Phone No'__ --> Phone Number\n",
    "* __'Primary Contact Person', 'Proimary Contact Person'__\n",
    "* __'Remarks'__  --> Ignore\n",
    "* __'Requirements'__\n",
    "* __'Sales Status'__ --> Ignore\n",
    "* __'Segment'__ --> Type of company\n",
    "* __'Size'__ --> Number of enployees\n",
    "* __'Source'__ --> Ignore"
   ]
  },
  {
   "cell_type": "code",
   "execution_count": 1,
   "metadata": {
    "colab": {},
    "colab_type": "code",
    "id": "k3nUVtA8U8Ii"
   },
   "outputs": [],
   "source": [
    "import pandas as pd\n",
    "import numpy as np\n",
    "import matplotlib.pyplot as plt\n",
    "import seaborn as sb\n",
    "import warnings\n",
    "warnings.filterwarnings('ignore')"
   ]
  },
  {
   "cell_type": "code",
   "execution_count": 2,
   "metadata": {
    "colab": {
     "base_uri": "https://localhost:8080/",
     "height": 326
    },
    "colab_type": "code",
    "id": "4kjitg3OU8Im",
    "outputId": "b495f3aa-c489-4861-f901-42b73b9a9131"
   },
   "outputs": [],
   "source": [
    "data = pd.ExcelFile(\"Data.xlsx\")"
   ]
  },
  {
   "cell_type": "code",
   "execution_count": 3,
   "metadata": {
    "colab": {},
    "colab_type": "code",
    "id": "V1kz5OZ_U8Ip"
   },
   "outputs": [],
   "source": [
    "df1 = pd.read_excel(data, 'Ashish')\n",
    "df2 = pd.read_excel(data, 'Deepu')\n",
    "df3 = pd.read_excel(data, \"Rozer\")\n",
    "df4 = pd.read_excel(data, \"Shubham\")"
   ]
  },
  {
   "cell_type": "code",
   "execution_count": 4,
   "metadata": {
    "colab": {},
    "colab_type": "code",
    "id": "5V5bUoUhU8Ir"
   },
   "outputs": [],
   "source": [
    "data = pd.concat([df1, df2, df3, df4])"
   ]
  },
  {
   "cell_type": "code",
   "execution_count": 5,
   "metadata": {
    "colab": {},
    "colab_type": "code",
    "id": "n07gBFPRU8Iu",
    "outputId": "2eccfab5-dece-4533-dd89-484642102eeb"
   },
   "outputs": [
    {
     "data": {
      "text/plain": [
       "((805, 31), (2826, 37), (2390, 28), (522, 28))"
      ]
     },
     "execution_count": 5,
     "metadata": {},
     "output_type": "execute_result"
    }
   ],
   "source": [
    "df1.shape, df2.shape, df3.shape, df4.shape"
   ]
  },
  {
   "cell_type": "code",
   "execution_count": 6,
   "metadata": {
    "colab": {},
    "colab_type": "code",
    "id": "TwzLyHrQU8Iz",
    "outputId": "7f4b6e18-eea9-4426-ac6d-326bee8f8032"
   },
   "outputs": [
    {
     "data": {
      "text/plain": [
       "(6543, 39)"
      ]
     },
     "execution_count": 6,
     "metadata": {},
     "output_type": "execute_result"
    }
   ],
   "source": [
    "data.shape"
   ]
  },
  {
   "cell_type": "code",
   "execution_count": 7,
   "metadata": {
    "colab": {},
    "colab_type": "code",
    "id": "CQATr2RJU8I3",
    "outputId": "b10f7606-942c-4993-e2d6-10d9c61e38ea"
   },
   "outputs": [
    {
     "data": {
      "text/plain": [
       "(1475, 3883)"
      ]
     },
     "execution_count": 7,
     "metadata": {},
     "output_type": "execute_result"
    }
   ],
   "source": [
    "data[\"Designation\"].isna().sum(), data[\"Designation 2\"].isna().sum()"
   ]
  },
  {
   "cell_type": "markdown",
   "metadata": {
    "colab_type": "text",
    "id": "nptDwn9fU8I6"
   },
   "source": [
    "# Drop unwanted columns\n",
    "\n",
    "Out of above features useful features are :\n",
    "* __'Contact Status'__ --> Company's reaction\n",
    "* __'Designation','Designation 2', 'Designation 3'__ --> Designation of person we are contacting\n",
    "* __'Detail Tech Requirement'__ --> Company's requirments\n",
    "* __'Funding'__ --> Total amount invested into the company\n",
    "* __'Location'__ --> Location of headquarter of the comapny\n",
    "* __'Segment'__ --> Type of company\n",
    "* __'Size'__ --> Number of enployees\n",
    "\n",
    "<b>Reasons</b>\n",
    "* __'Contact Status'__ --> This is what we are goning to predict\n",
    "* __'Designation','Designation 2', 'Designation 3'__ --> If the contact person is technical head  or a descision making person of comapny then he'll easily understant the technical stuff and can make descisions without much dealy.\n",
    "* __'Detail Tech Requirement'__ --> If company's requirment matches what we are providing then there is high chance of that company to consider us\n",
    "* __'Funding'__ --> If company has low funding then it won't be able to hadle our chargers\n",
    "* __'Location'__ --> Location of headquarter of the comapny\n",
    "* __'Segment'__ --> Type of company\n",
    "* __'Size'__ --> Number of enployees\n"
   ]
  },
  {
   "cell_type": "code",
   "execution_count": 8,
   "metadata": {
    "colab": {},
    "colab_type": "code",
    "id": "AmOXYXQFU8I7"
   },
   "outputs": [],
   "source": [
    "data.drop(columns=['Added Date', 'BANT Status', 'Co Linkedin URL', 'Company Name'\n",
    "                   ,'Contact #2', 'Contact #3','Email','Email 2', 'Email 3', 'FollowUp Date', 'Linkedin URL', 'Phone 2', 'Phone 3'\n",
    "                   , 'Phone No','Primary Contact Person', 'Proimary Contact Person','Unnamed: 28', 'Unnamed: 29', 'Unnamed: 30', 'Unnamed: 31'\n",
    "                   ,'Unnamed: 32', 'Unnamed: 33', 'Unnamed: 34', 'Unnamed: 35'\n",
    "                   ,'Unnamed: 36', \"Sales Status\", \"Segment\", \"Source\", 'Merge status', \"Remarks\"], inplace = True)"
   ]
  },
  {
   "cell_type": "code",
   "execution_count": 9,
   "metadata": {
    "colab": {},
    "colab_type": "code",
    "id": "6iBQY4s1U8I-",
    "outputId": "bf506061-23fa-4589-cf60-436cf53a8cd8"
   },
   "outputs": [
    {
     "data": {
      "text/plain": [
       "Index(['Contact Status', 'Designation', 'Designation 2', 'Designation 3',\n",
       "       'Detail Tech Requirement', 'Funding', 'Location', 'Requirements',\n",
       "       'Size'],\n",
       "      dtype='object')"
      ]
     },
     "execution_count": 9,
     "metadata": {},
     "output_type": "execute_result"
    }
   ],
   "source": [
    "data.columns"
   ]
  },
  {
   "cell_type": "code",
   "execution_count": 10,
   "metadata": {
    "colab": {},
    "colab_type": "code",
    "id": "TGHGdcgaU8JB"
   },
   "outputs": [],
   "source": [
    "import csv\n",
    "data.to_csv(\"Column_Selection.csv\")"
   ]
  },
  {
   "cell_type": "markdown",
   "metadata": {
    "colab_type": "text",
    "id": "-_1jWvXCU8JE"
   },
   "source": [
    "# 'Contact Status'\n",
    "<h3><b>Replace the values by 1 if company responded else replace by 0.</b></h3>"
   ]
  },
  {
   "cell_type": "code",
   "execution_count": 11,
   "metadata": {
    "colab": {},
    "colab_type": "code",
    "id": "x53yjHqOU8JF",
    "outputId": "f5ce4994-3057-4d67-fbab-91b2fd4e1550"
   },
   "outputs": [
    {
     "data": {
      "text/plain": [
       "array(None, dtype=object)"
      ]
     },
     "execution_count": 11,
     "metadata": {},
     "output_type": "execute_result"
    }
   ],
   "source": [
    "data[\"Contact Status\"].unique()\n",
    "np.array(data[\"Contact Status\"].fillna(\"Missing\", inplace=True))"
   ]
  },
  {
   "cell_type": "code",
   "execution_count": 12,
   "metadata": {
    "colab": {},
    "colab_type": "code",
    "id": "NzZq1_1QU8JI"
   },
   "outputs": [],
   "source": [
    "data[\"Contact Status\"] = (data[\"Contact Status\"].replace(to_replace={'Reminded2','Reminded1','Emailed #1', \"Missing\"}, value=\"0\", regex=True) )\n",
    "data[\"Contact Status\"] = (data[\"Contact Status\"].replace(to_replace={'Responded', 'Not Interested', 'Called', 'Call-Disqualified'\n",
    "       ,'Call-Scheduled', 'Call-Yes', 'Call-Qualified', 'postponed'}, value=\"1\", regex=True) )"
   ]
  },
  {
   "cell_type": "code",
   "execution_count": 16,
   "metadata": {
    "colab": {},
    "colab_type": "code",
    "id": "ofh3oKXqU8JL"
   },
   "outputs": [],
   "source": [
    "# data.head(2)\n",
    "# import csv\n",
    "# data.to_csv(\"Column_Selection.csv\")"
   ]
  },
  {
   "cell_type": "markdown",
   "metadata": {
    "colab_type": "text",
    "id": "iiTwjSuCU8JO"
   },
   "source": [
    "# 'Designation'"
   ]
  },
  {
   "cell_type": "code",
   "execution_count": 17,
   "metadata": {
    "colab": {},
    "colab_type": "code",
    "id": "uVM25lUAU8JP"
   },
   "outputs": [],
   "source": [
    "data[\"Designation\"].fillna(\"Missing\", inplace=True)\n",
    "data[\"Designation 2\"].fillna(\"Missing\", inplace=True)\n",
    "data[\"Designation 3\"].fillna(\"Missing\", inplace=True)"
   ]
  },
  {
   "cell_type": "code",
   "execution_count": 18,
   "metadata": {
    "colab": {},
    "colab_type": "code",
    "id": "X4PxMJVTU8JS"
   },
   "outputs": [],
   "source": [
    "data[\"combined\"] = data[\"Designation\"].str.cat(data[[\"Designation\", \"Designation 2\", \"Designation 3\"]].astype(str), sep=\"/\")"
   ]
  },
  {
   "cell_type": "code",
   "execution_count": 19,
   "metadata": {
    "colab": {},
    "colab_type": "code",
    "id": "IiXTbOGaU8JV"
   },
   "outputs": [],
   "source": [
    "# np.array(data[\"combined\"])"
   ]
  },
  {
   "cell_type": "code",
   "execution_count": 20,
   "metadata": {
    "colab": {},
    "colab_type": "code",
    "id": "lfumSFwvU8JZ"
   },
   "outputs": [],
   "source": [
    "# [str(i).split(\"/\") for i in (np.array(data[\"combined\"]))]"
   ]
  },
  {
   "cell_type": "code",
   "execution_count": 21,
   "metadata": {
    "colab": {},
    "colab_type": "code",
    "id": "IQfzuCJhU8Jd"
   },
   "outputs": [],
   "source": [
    "# data[\"Contact Status\"] = (data[\"Contact Status\"].replace\n",
    "#         (to_replace={'HR','Hr'}, value=\"0\", regex=True) )"
   ]
  },
  {
   "cell_type": "code",
   "execution_count": 22,
   "metadata": {
    "colab": {},
    "colab_type": "code",
    "id": "CfL3RtHnU8Jh"
   },
   "outputs": [],
   "source": [
    "# for i in range(len(data)):\n",
    "#     if np.array(data[\"combined\"])[i] == \"HR\":\n",
    "#         np.array(data[\"combined\"])[i] = 0\n",
    "#     else:\n",
    "#         np.array(data[\"combined\"])[i] = 1"
   ]
  },
  {
   "cell_type": "code",
   "execution_count": 23,
   "metadata": {
    "colab": {},
    "colab_type": "code",
    "id": "1DTyCppvU8Jk"
   },
   "outputs": [],
   "source": [
    "# data[\"combined\"].str[1:-1].str.split(\"/\").map(set)\n",
    "# data[\"combined\"] = data[\"combined\"].str.split(\"/\").map(set)\n",
    "# (pd.DataFrame(data[\"combine\"])).head()"
   ]
  },
  {
   "cell_type": "code",
   "execution_count": 24,
   "metadata": {
    "colab": {},
    "colab_type": "code",
    "id": "N2FlRAuGU8Jm",
    "outputId": "cd051457-1891-49fc-b4c9-0d61404bac67"
   },
   "outputs": [],
   "source": [
    "# data.isna().sum()"
   ]
  },
  {
   "cell_type": "code",
   "execution_count": 25,
   "metadata": {
    "colab": {},
    "colab_type": "code",
    "id": "r7CtmI7xU8Jp"
   },
   "outputs": [],
   "source": [
    "# (data[\"combined\"][:5]).str.split(\"/\")\n",
    "# [str(i).split(\"/\").map(set) for i in (np.array(data[\"combined\"]))]"
   ]
  },
  {
   "cell_type": "code",
   "execution_count": 26,
   "metadata": {
    "colab": {},
    "colab_type": "code",
    "id": "ig5Dvfk3U8Js"
   },
   "outputs": [],
   "source": [
    "# for i in range(len(data)-1):\n",
    "#     data[\"combined\"][i:i+1] = data[\"combined\"][i:i+1].str.split(\"/\").map(set).map(list)\n",
    "#     data[\"combined\"][i:i+1] = (data[\"combined\"][i:i+1].replace(to_replace={'F','Founder','ounder', \"CFounder\", 'CF', 'CoFounder'}, value=\"Founder\",regex=True))"
   ]
  },
  {
   "cell_type": "code",
   "execution_count": 27,
   "metadata": {
    "colab": {},
    "colab_type": "code",
    "id": "mkITOmPVU8Jv"
   },
   "outputs": [],
   "source": [
    "# data[\"combined\"][0:7]"
   ]
  },
  {
   "cell_type": "code",
   "execution_count": 28,
   "metadata": {
    "colab": {},
    "colab_type": "code",
    "id": "RjgMaGf4U8Jy"
   },
   "outputs": [],
   "source": [
    "# data[\"combined\"] = (data[\"combined\"].replace(to_replace={'Hr','HR','Head Hr', \"Head HR\"}, value=\"HR\", regex=True))"
   ]
  },
  {
   "cell_type": "code",
   "execution_count": 29,
   "metadata": {
    "colab": {},
    "colab_type": "code",
    "id": "JerBWSG6U8J0"
   },
   "outputs": [],
   "source": [
    "# data[\"combined\"] = (data[\"combined\"].replace(to_replace={'F','Founder','ounder', \"CFounder\", 'CF', 'CoFounder'}, value=\"Founder\",regex=True))"
   ]
  },
  {
   "cell_type": "code",
   "execution_count": 30,
   "metadata": {
    "colab": {},
    "colab_type": "code",
    "id": "Rf2Xh5ELU8J2"
   },
   "outputs": [],
   "source": [
    "# len(data[\"combined\"].unique())\n",
    "# data[\"combined\"]"
   ]
  },
  {
   "cell_type": "code",
   "execution_count": 31,
   "metadata": {
    "colab": {},
    "colab_type": "code",
    "id": "nl_CNMdBU8J6"
   },
   "outputs": [],
   "source": [
    "# data[\"combined\"] = (data[\"combined\"].replace(to_replace={'F','Founder','ounder', \"CFounder\", 'CF', 'CoFounder'}, value=\"Founder\",regex=True))"
   ]
  },
  {
   "cell_type": "code",
   "execution_count": 32,
   "metadata": {
    "colab": {},
    "colab_type": "code",
    "id": "J3GlURdfU8J9"
   },
   "outputs": [],
   "source": [
    "# (data[\"combined\"][2:3])"
   ]
  },
  {
   "cell_type": "code",
   "execution_count": null,
   "metadata": {
    "colab": {},
    "colab_type": "code",
    "id": "JDN2-KKZU8J_"
   },
   "outputs": [],
   "source": []
  },
  {
   "cell_type": "code",
   "execution_count": 33,
   "metadata": {
    "colab": {},
    "colab_type": "code",
    "id": "viSpyj2OU8KC"
   },
   "outputs": [],
   "source": [
    "# data.drop(columns=[\"Designation\", \"Designation 2\", \"Designation 3\"], inplace = True)"
   ]
  },
  {
   "cell_type": "code",
   "execution_count": 34,
   "metadata": {
    "colab": {},
    "colab_type": "code",
    "id": "vss9p6VaU8KE"
   },
   "outputs": [],
   "source": [
    "# data[\"Requirements\"].str.split(\",\")\n",
    "# col = [\"Back End\", \"Front End\", \"Full Stack\", \"other\", \"Node JS\", \"iOS\",\"Angular\",  \"React\",  \"Java\",  \".Net\", \"PHP\", \"Python\"]"
   ]
  },
  {
   "cell_type": "code",
   "execution_count": 35,
   "metadata": {
    "colab": {},
    "colab_type": "code",
    "id": "JuCaz6HsU8KH"
   },
   "outputs": [],
   "source": [
    "# new = data[\"Requirements\"].str.split(\",\", n = 5, expand = True) \n",
    "  \n",
    "# # making seperate first name column from new data frame \n",
    "# data[\"Tech1\"]= new[0] \n",
    "  \n",
    "# # making seperate last name column from new data frame \n",
    "# data[\"Tech2\"]= new[1] \n",
    "# data[\"Tech3\"]= new[2] \n",
    "# data[\"Tech4\"]= new[3] \n",
    "# data[\"Tech5\"]= new[4] "
   ]
  },
  {
   "cell_type": "code",
   "execution_count": 36,
   "metadata": {
    "colab": {},
    "colab_type": "code",
    "id": "wYh-LdJXU8KK"
   },
   "outputs": [],
   "source": [
    "# data.head()"
   ]
  },
  {
   "cell_type": "markdown",
   "metadata": {},
   "source": [
    "# Requirements"
   ]
  },
  {
   "cell_type": "markdown",
   "metadata": {
    "colab_type": "text",
    "id": "E1sb9llNU8KM"
   },
   "source": [
    "</h3><b> Make techs as key in dict and save column number as values. Then replace those col by 1 </b> </h3>\n"
   ]
  },
  {
   "cell_type": "code",
   "execution_count": 37,
   "metadata": {
    "colab": {},
    "colab_type": "code",
    "id": "coz06ywLU8KO"
   },
   "outputs": [],
   "source": [
    "data[\"Requirements\"].fillna(\"Missing\", inplace = True)"
   ]
  },
  {
   "cell_type": "markdown",
   "metadata": {
    "colab_type": "text",
    "id": "xu4K0ykSU8KQ"
   },
   "source": [
    "Remove the brackets and everything within it."
   ]
  },
  {
   "cell_type": "code",
   "execution_count": 38,
   "metadata": {
    "colab": {},
    "colab_type": "code",
    "id": "TEjsZIleU8KR"
   },
   "outputs": [],
   "source": [
    "l = []\n",
    "import re\n",
    "for i in range(len(data)):\n",
    "    x = re.sub(\"[\\(\\[].*?[\\)\\]]\", \"\", str(np.array(data[\"Requirements\"])[i]))\n",
    "    l.append(x)"
   ]
  },
  {
   "cell_type": "code",
   "execution_count": 39,
   "metadata": {
    "colab": {},
    "colab_type": "code",
    "id": "0zyjAcXmU8KT",
    "outputId": "c31ab0b3-9826-4ba6-bd1d-0cf4eb0508ce"
   },
   "outputs": [
    {
     "data": {
      "text/plain": [
       "['Back End', 'Full Stack, Front End', 'ReactJS', 'Front End']"
      ]
     },
     "execution_count": 39,
     "metadata": {},
     "output_type": "execute_result"
    }
   ],
   "source": [
    "l[:4]"
   ]
  },
  {
   "cell_type": "code",
   "execution_count": 40,
   "metadata": {
    "colab": {},
    "colab_type": "code",
    "id": "dzDkuyT7U8KW"
   },
   "outputs": [],
   "source": [
    "req = []\n",
    "for i in l:\n",
    "    req.append(i.split(\",\"))"
   ]
  },
  {
   "cell_type": "code",
   "execution_count": 41,
   "metadata": {
    "colab": {},
    "colab_type": "code",
    "id": "aTyZmb_wU8Ka",
    "outputId": "15b041d3-afd4-4394-80f5-069ede64f6c0"
   },
   "outputs": [
    {
     "data": {
      "text/plain": [
       "[['Back End'], ['Full Stack', ' Front End'], ['ReactJS'], ['Front End']]"
      ]
     },
     "execution_count": 41,
     "metadata": {},
     "output_type": "execute_result"
    }
   ],
   "source": [
    "req[:4]"
   ]
  },
  {
   "cell_type": "code",
   "execution_count": 42,
   "metadata": {
    "colab": {},
    "colab_type": "code",
    "id": "WAfLgSOUU8Kd"
   },
   "outputs": [],
   "source": [
    "b = []\n",
    "for i in l:\n",
    "    b.append(i.split(\",\"))"
   ]
  },
  {
   "cell_type": "code",
   "execution_count": 43,
   "metadata": {
    "colab": {},
    "colab_type": "code",
    "id": "9Arno-rpU8Kg"
   },
   "outputs": [],
   "source": [
    "import itertools\n",
    "dict = {}\n",
    "c = []\n",
    "list_keys = dict.keys()\n",
    "for i in range(len(b)):\n",
    "    for j in b[i]:\n",
    "        j = j.strip().replace(\" \", \"\").lower()\n",
    "        j = j.strip().replace(\"-\", \"\").lower()\n",
    "        if j in list_keys:\n",
    "            c = []\n",
    "            c.append(dict[j])\n",
    "            c.append([i])\n",
    "            merged = list(itertools.chain(*c))\n",
    "            dict[j] = merged\n",
    "        else:\n",
    "            dict[j] = [i]\n"
   ]
  },
  {
   "cell_type": "code",
   "execution_count": 105,
   "metadata": {
    "colab": {},
    "colab_type": "code",
    "id": "H8rOkd-HU8Ki",
    "outputId": "d5d1a868-f531-4f6d-e4c4-beb2682bdf93"
   },
   "outputs": [],
   "source": [
    "(dict.keys())"
   ]
  },
  {
   "cell_type": "code",
   "execution_count": 45,
   "metadata": {
    "colab": {},
    "colab_type": "code",
    "id": "8GQmKL_eU8Ko",
    "outputId": "bab66d2c-a499-4120-8fd7-d594fdaa2c33"
   },
   "outputs": [
    {
     "data": {
      "text/plain": [
       "[4839]"
      ]
     },
     "execution_count": 45,
     "metadata": {},
     "output_type": "execute_result"
    }
   ],
   "source": [
    "dict[\"vineeta@fabbag.com\"]"
   ]
  },
  {
   "cell_type": "markdown",
   "metadata": {
    "colab_type": "text",
    "id": "AkMSFq-zU8Kq"
   },
   "source": [
    "__In the data, few columns contain wrong information. Here Requirement column contain few email ids instead of technologies. To avoid wrong predictions, we need to remove the ones which contain no values or mark it as missing.__"
   ]
  },
  {
   "cell_type": "code",
   "execution_count": 104,
   "metadata": {
    "colab": {},
    "colab_type": "code",
    "id": "XrFmD1t0U8Ks",
    "outputId": "9d0b2be9-d5c7-4f8b-8d1e-9d22396409d5"
   },
   "outputs": [],
   "source": [
    "d = pd.read_csv(\"Column_Selection.csv\")\n",
    "d[4839:4840]"
   ]
  },
  {
   "cell_type": "code",
   "execution_count": 47,
   "metadata": {
    "colab": {},
    "colab_type": "code",
    "id": "CZnGzEYTU8Kw",
    "outputId": "f7e43fbb-9869-4f0d-93ee-61a776cbdd64"
   },
   "outputs": [
    {
     "name": "stdout",
     "output_type": "stream",
     "text": [
      "[1809]\n",
      "[4469]\n",
      "[4837]\n",
      "[4838]\n",
      "[4839]\n",
      "[4840]\n",
      "[4841]\n",
      "[4842]\n",
      "[5751]\n",
      "[5897]\n"
     ]
    }
   ],
   "source": [
    "for i in dict.keys():\n",
    "    if \"@\" in i:\n",
    "        print(dict[i])"
   ]
  },
  {
   "cell_type": "code",
   "execution_count": 103,
   "metadata": {
    "colab": {},
    "colab_type": "code",
    "id": "pX5wzKfjU8Kz",
    "outputId": "79b2add4-f192-4d3b-b72e-7da23fd29364"
   },
   "outputs": [],
   "source": [
    "d[4469:4470]"
   ]
  },
  {
   "cell_type": "code",
   "execution_count": 102,
   "metadata": {
    "colab": {},
    "colab_type": "code",
    "id": "rhNiTXPaU8K2",
    "outputId": "032b25bc-cb5c-48a3-9bb2-5a7fb6d052fd"
   },
   "outputs": [],
   "source": [
    "d[4837:4843]"
   ]
  },
  {
   "cell_type": "code",
   "execution_count": 101,
   "metadata": {
    "colab": {},
    "colab_type": "code",
    "id": "Jlhh_glLU8K5",
    "outputId": "9f6351fb-81f0-4822-d8f3-05ef0de79695"
   },
   "outputs": [],
   "source": [
    "d[5751:5752]"
   ]
  },
  {
   "cell_type": "code",
   "execution_count": 100,
   "metadata": {
    "colab": {},
    "colab_type": "code",
    "id": "rO0m7FhKU8K-",
    "outputId": "8b99d6fd-f247-4539-a2da-18cce59d68dd"
   },
   "outputs": [],
   "source": [
    "d[5897:5898]"
   ]
  },
  {
   "cell_type": "code",
   "execution_count": 52,
   "metadata": {
    "colab": {},
    "colab_type": "code",
    "id": "Lwpt9uPzU8LC"
   },
   "outputs": [],
   "source": [
    "feature_list = dict.keys()\n",
    "zero_data = np.zeros(shape=(len(data),len(feature_list)))\n",
    "new_d = pd.DataFrame(zero_data, columns=feature_list)"
   ]
  },
  {
   "cell_type": "code",
   "execution_count": 99,
   "metadata": {
    "colab": {},
    "colab_type": "code",
    "id": "7B29B4FAU8LE",
    "outputId": "4154fa74-55c9-4fb9-ad86-731e7a140209"
   },
   "outputs": [],
   "source": [
    "d.head()"
   ]
  },
  {
   "cell_type": "markdown",
   "metadata": {
    "colab": {},
    "colab_type": "code",
    "id": "IUa3WPrPU8LK"
   },
   "source": [
    "__Convert this dictionary into dataset__"
   ]
  },
  {
   "cell_type": "code",
   "execution_count": 54,
   "metadata": {
    "colab": {},
    "colab_type": "code",
    "id": "5LV8uA8OU8QO"
   },
   "outputs": [],
   "source": [
    "for k in range(len(new_d)):\n",
    "    for i in  dict.keys():\n",
    "        for j in dict[i]:\n",
    "            new_d[i][j] = 1 "
   ]
  },
  {
   "cell_type": "code",
   "execution_count": 55,
   "metadata": {
    "colab": {},
    "colab_type": "code",
    "id": "WYB7WXybU8QP"
   },
   "outputs": [
    {
     "data": {
      "text/plain": [
       "pandas.core.frame.DataFrame"
      ]
     },
     "execution_count": 55,
     "metadata": {},
     "output_type": "execute_result"
    }
   ],
   "source": [
    "type(new_d)"
   ]
  },
  {
   "cell_type": "code",
   "execution_count": 57,
   "metadata": {},
   "outputs": [
    {
     "data": {
      "text/plain": [
       "(6543, 246)"
      ]
     },
     "execution_count": 57,
     "metadata": {},
     "output_type": "execute_result"
    }
   ],
   "source": [
    "new_d.shape"
   ]
  },
  {
   "cell_type": "code",
   "execution_count": 58,
   "metadata": {},
   "outputs": [
    {
     "data": {
      "text/plain": [
       "(6543, 10)"
      ]
     },
     "execution_count": 58,
     "metadata": {},
     "output_type": "execute_result"
    }
   ],
   "source": [
    "data.shape"
   ]
  },
  {
   "cell_type": "code",
   "execution_count": 61,
   "metadata": {},
   "outputs": [],
   "source": [
    "import csv\n",
    "new_d.to_csv(\"Requirements.csv\")"
   ]
  },
  {
   "cell_type": "code",
   "execution_count": 97,
   "metadata": {},
   "outputs": [],
   "source": [
    "req_data = pd.read_csv(\"Requirements.csv\")\n",
    "# whole_data = pd.concat([data, req_data])\n",
    "# req_data.drop(columns=\"Unnamed: 0\", inplace = True)\n",
    "req_data.head()"
   ]
  },
  {
   "cell_type": "code",
   "execution_count": 98,
   "metadata": {},
   "outputs": [],
   "source": [
    "data.head()"
   ]
  },
  {
   "cell_type": "code",
   "execution_count": 84,
   "metadata": {},
   "outputs": [],
   "source": [
    "for i in req_data.columns:\n",
    "    if \"@\" in i:\n",
    "        req_data.drop(columns=i, inplace=True)"
   ]
  },
  {
   "cell_type": "code",
   "execution_count": 86,
   "metadata": {},
   "outputs": [
    {
     "data": {
      "text/plain": [
       "(6543, 237)"
      ]
     },
     "execution_count": 86,
     "metadata": {},
     "output_type": "execute_result"
    }
   ],
   "source": [
    "req_data.shape"
   ]
  },
  {
   "cell_type": "code",
   "execution_count": 91,
   "metadata": {},
   "outputs": [
    {
     "data": {
      "text/plain": [
       "(0    0.0\n",
       " 1    0.0\n",
       " Name: backend, dtype: float64, 0    1.0\n",
       " 1    0.0\n",
       " Name: backend, dtype: float64)"
      ]
     },
     "execution_count": 91,
     "metadata": {},
     "output_type": "execute_result"
    }
   ],
   "source": [
    "# whole_data.drop(columns=\"Unnamed: 33\", inplace =True)\n",
    "# whole_data.backend[:2], req_data.backend[:2]"
   ]
  },
  {
   "cell_type": "code",
   "execution_count": 75,
   "metadata": {},
   "outputs": [
    {
     "data": {
      "text/plain": [
       "Index(['.net', 'Contact Status', 'Designation', 'Designation 2',\n",
       "       'Designation 3', 'Detail Tech Requirement', 'Funding', 'Location',\n",
       "       'Size', 'ai',\n",
       "       ...\n",
       "       'ux/uifullstack', 'vineeta@fabbag.com', 'web', 'web/ui', 'webapp',\n",
       "       'webbackend', 'webfrontend', 'webfullstack', 'webgraphic', 'webui'],\n",
       "      dtype='object', length=254)"
      ]
     },
     "execution_count": 75,
     "metadata": {},
     "output_type": "execute_result"
    }
   ],
   "source": [
    "whole_data.columns"
   ]
  },
  {
   "cell_type": "code",
   "execution_count": 77,
   "metadata": {},
   "outputs": [],
   "source": [
    "list_req = req_data.columns"
   ]
  },
  {
   "cell_type": "code",
   "execution_count": 88,
   "metadata": {},
   "outputs": [],
   "source": [
    "for i in whole_data.columns:\n",
    "    if i in list_req:\n",
    "        whole_data[i].fillna(0, inplace=True)"
   ]
  },
  {
   "cell_type": "code",
   "execution_count": 108,
   "metadata": {},
   "outputs": [],
   "source": [
    "whole_data.head()"
   ]
  },
  {
   "cell_type": "code",
   "execution_count": 106,
   "metadata": {},
   "outputs": [],
   "source": [
    "data.head()"
   ]
  },
  {
   "cell_type": "code",
   "execution_count": 93,
   "metadata": {},
   "outputs": [],
   "source": [
    "data.drop(columns=[\"Detail Tech Requirement\", \"Requirements\"], inplace = True)"
   ]
  },
  {
   "cell_type": "code",
   "execution_count": 107,
   "metadata": {},
   "outputs": [],
   "source": [
    "data.head()"
   ]
  },
  {
   "cell_type": "code",
   "execution_count": null,
   "metadata": {},
   "outputs": [],
   "source": []
  }
 ],
 "metadata": {
  "colab": {
   "collapsed_sections": [],
   "name": "Version_0.0.ipynb",
   "provenance": [],
   "version": "0.3.2"
  },
  "kernelspec": {
   "display_name": "Python 3",
   "language": "python",
   "name": "python3"
  },
  "language_info": {
   "codemirror_mode": {
    "name": "ipython",
    "version": 3
   },
   "file_extension": ".py",
   "mimetype": "text/x-python",
   "name": "python",
   "nbconvert_exporter": "python",
   "pygments_lexer": "ipython3",
   "version": "3.7.1"
  }
 },
 "nbformat": 4,
 "nbformat_minor": 2
}
