{
 "cells": [
  {
   "cell_type": "markdown",
   "metadata": {},
   "source": [
    "<b>Features:</b> Following are the features in dataset:\n",
    "\n",
    "* __'Added Date'__  --> Date when entry entered\n",
    "* __'BANT Status'__ --> \n",
    "    * __B(Budget)__ - Depends on Funding or Minimum salary that the company gives to freshers\n",
    "    * __A(Authority)__ - Right Contact person\n",
    "    * __N(Need)__ - Company Tech Requirement\n",
    "    * __T(Time Frame)__ - Company has to wait for 4 Months for deployment. \n",
    "* __'Co Linkedin URL'__ --> LinkedIn URL\n",
    "* __'Company Name'__  --> Name of Comapny\n",
    "* __'Contact #2', 'Contact #3'__ --> Contact Number\n",
    "* __'Contact Status'__ --> Company's reaction\n",
    "* __'Designation','Designation 2', 'Designation 3'__ --> Designation of person we are contacting\n",
    "* __'Detail Tech Requirement'__ --> Company's requirments\n",
    "* __'Email', 'Email 2', 'Email 3'__ --> Email id of person we are contacting\n",
    "* __'FollowUp Date'__ --> Date given by comapny to contact back\n",
    "* __'Funding'__ --> Total amount invested into the company\n",
    "* __'Linkedin URL'__ --> LinkedIn URL\n",
    "* __'Location'__ --> Location of headquarter of the comapny\n",
    "* __'Merge status'__ --> Ignore\n",
    "* __'Phone 2', 'Phone 3', 'Phone No'__ --> Phone Number\n",
    "* __'Primary Contact Person', 'Proimary Contact Person'__\n",
    "* __'Remarks'__  --> Ignore\n",
    "* __'Requirements'__\n",
    "* __'Sales Status'__ --> Ignore\n",
    "* __'Segment'__ --> Type of company\n",
    "* __'Size'__ --> Number of enployees\n",
    "* __'Source'__ --> Ignore"
   ]
  },
  {
   "cell_type": "code",
   "execution_count": 70,
   "metadata": {},
   "outputs": [],
   "source": [
    "import pandas as pd\n",
    "import numpy as np\n",
    "import matplotlib.pyplot as plt\n",
    "import seaborn as sb\n",
    "import warnings\n",
    "warnings.filterwarnings('ignore')"
   ]
  },
  {
   "cell_type": "code",
   "execution_count": 71,
   "metadata": {},
   "outputs": [],
   "source": [
    "data = pd.ExcelFile(\"Data.xlsx\")"
   ]
  },
  {
   "cell_type": "code",
   "execution_count": 72,
   "metadata": {},
   "outputs": [],
   "source": [
    "df1 = pd.read_excel(data, 'Ashish')\n",
    "df2 = pd.read_excel(data, 'Deepu')\n",
    "df3 = pd.read_excel(data, \"Rozer\")\n",
    "df4 = pd.read_excel(data, \"Shubham\")"
   ]
  },
  {
   "cell_type": "code",
   "execution_count": 73,
   "metadata": {},
   "outputs": [],
   "source": [
    "data = pd.concat([df1, df2, df3, df4])"
   ]
  },
  {
   "cell_type": "code",
   "execution_count": 5,
   "metadata": {},
   "outputs": [
    {
     "data": {
      "text/plain": [
       "((805, 31), (2826, 37), (2390, 28), (522, 28))"
      ]
     },
     "execution_count": 5,
     "metadata": {},
     "output_type": "execute_result"
    }
   ],
   "source": [
    "df1.shape, df2.shape, df3.shape, df4.shape"
   ]
  },
  {
   "cell_type": "code",
   "execution_count": 6,
   "metadata": {},
   "outputs": [
    {
     "data": {
      "text/plain": [
       "(6543, 39)"
      ]
     },
     "execution_count": 6,
     "metadata": {},
     "output_type": "execute_result"
    }
   ],
   "source": [
    "data.shape"
   ]
  },
  {
   "cell_type": "code",
   "execution_count": 7,
   "metadata": {},
   "outputs": [
    {
     "data": {
      "text/plain": [
       "(1475, 3883)"
      ]
     },
     "execution_count": 7,
     "metadata": {},
     "output_type": "execute_result"
    }
   ],
   "source": [
    "data[\"Designation\"].isna().sum(), data[\"Designation 2\"].isna().sum()"
   ]
  },
  {
   "cell_type": "markdown",
   "metadata": {},
   "source": [
    "# Drop unwanted columns\n",
    "\n",
    "Out of above features useful features are :\n",
    "* __'Contact Status'__ --> Company's reaction\n",
    "* __'Designation','Designation 2', 'Designation 3'__ --> Designation of person we are contacting\n",
    "* __'Detail Tech Requirement'__ --> Company's requirments\n",
    "* __'Funding'__ --> Total amount invested into the company\n",
    "* __'Location'__ --> Location of headquarter of the comapny\n",
    "* __'Segment'__ --> Type of company\n",
    "* __'Size'__ --> Number of enployees\n",
    "\n",
    "<b>Reasons</b>\n",
    "* __'Contact Status'__ --> This is what we are goning to predict\n",
    "* __'Designation','Designation 2', 'Designation 3'__ --> If the contact person is technical head  or a descision making person of comapny then he'll easily understant the technical stuff and can make descisions without much dealy.\n",
    "* __'Detail Tech Requirement'__ --> If company's requirment matches what we are providing then there is high chance of that company to consider us\n",
    "* __'Funding'__ --> If company has low funding then it won't be able to hadle our chargers\n",
    "* __'Location'__ --> Location of headquarter of the comapny\n",
    "* __'Segment'__ --> Type of company\n",
    "* __'Size'__ --> Number of enployees\n"
   ]
  },
  {
   "cell_type": "code",
   "execution_count": 74,
   "metadata": {},
   "outputs": [],
   "source": [
    "data.drop(columns=['Added Date', 'BANT Status', 'Co Linkedin URL', 'Company Name'\n",
    "                   ,'Contact #2', 'Contact #3','Email','Email 2', 'Email 3', 'FollowUp Date', 'Linkedin URL', 'Phone 2', 'Phone 3'\n",
    "                   , 'Phone No','Primary Contact Person', 'Proimary Contact Person','Unnamed: 28', 'Unnamed: 29', 'Unnamed: 30', 'Unnamed: 31'\n",
    "                   ,'Unnamed: 32', 'Unnamed: 33', 'Unnamed: 34', 'Unnamed: 35'\n",
    "                   ,'Unnamed: 36', \"Sales Status\", \"Segment\", \"Source\", 'Merge status', \"Remarks\"], inplace = True)"
   ]
  },
  {
   "cell_type": "code",
   "execution_count": 75,
   "metadata": {},
   "outputs": [
    {
     "data": {
      "text/plain": [
       "Index(['Contact Status', 'Designation', 'Designation 2', 'Designation 3',\n",
       "       'Detail Tech Requirement', 'Funding', 'Location', 'Requirements',\n",
       "       'Size'],\n",
       "      dtype='object')"
      ]
     },
     "execution_count": 75,
     "metadata": {},
     "output_type": "execute_result"
    }
   ],
   "source": [
    "data.columns"
   ]
  },
  {
   "cell_type": "markdown",
   "metadata": {},
   "source": [
    "# 'Contact Status'\n",
    "<h3><b>Replace the values by 1 if company responded else replace by 0.</b></h3>"
   ]
  },
  {
   "cell_type": "code",
   "execution_count": 76,
   "metadata": {},
   "outputs": [
    {
     "data": {
      "text/plain": [
       "array(None, dtype=object)"
      ]
     },
     "execution_count": 76,
     "metadata": {},
     "output_type": "execute_result"
    }
   ],
   "source": [
    "data[\"Contact Status\"].unique()\n",
    "np.array(data[\"Contact Status\"].fillna(\"Missing\", inplace=True))"
   ]
  },
  {
   "cell_type": "code",
   "execution_count": 11,
   "metadata": {},
   "outputs": [],
   "source": [
    "data[\"Contact Status\"] = (data[\"Contact Status\"].replace(to_replace={'Reminded2','Reminded1','Emailed #1', \"Missing\"}, value=\"0\", regex=True) )\n",
    "data[\"Contact Status\"] = (data[\"Contact Status\"].replace(to_replace={'Responded', 'Not Interested', 'Called', 'Call-Disqualified'\n",
    "       ,'Call-Scheduled', 'Call-Yes', 'Call-Qualified', 'postponed'}, value=\"1\", regex=True) )"
   ]
  },
  {
   "cell_type": "code",
   "execution_count": 12,
   "metadata": {},
   "outputs": [
    {
     "data": {
      "text/html": [
       "<div>\n",
       "<style scoped>\n",
       "    .dataframe tbody tr th:only-of-type {\n",
       "        vertical-align: middle;\n",
       "    }\n",
       "\n",
       "    .dataframe tbody tr th {\n",
       "        vertical-align: top;\n",
       "    }\n",
       "\n",
       "    .dataframe thead th {\n",
       "        text-align: right;\n",
       "    }\n",
       "</style>\n",
       "<table border=\"1\" class=\"dataframe\">\n",
       "  <thead>\n",
       "    <tr style=\"text-align: right;\">\n",
       "      <th></th>\n",
       "      <th>Contact Status</th>\n",
       "      <th>Designation</th>\n",
       "      <th>Designation 2</th>\n",
       "      <th>Designation 3</th>\n",
       "      <th>Detail Tech Requirement</th>\n",
       "      <th>Funding</th>\n",
       "      <th>Location</th>\n",
       "      <th>Requirements</th>\n",
       "      <th>Size</th>\n",
       "    </tr>\n",
       "  </thead>\n",
       "  <tbody>\n",
       "    <tr>\n",
       "      <th>0</th>\n",
       "      <td>0</td>\n",
       "      <td>F</td>\n",
       "      <td>CF/CEO</td>\n",
       "      <td>NaN</td>\n",
       "      <td>NaN</td>\n",
       "      <td>NaN</td>\n",
       "      <td>Noida, Delhi</td>\n",
       "      <td>Back End</td>\n",
       "      <td>51-200</td>\n",
       "    </tr>\n",
       "    <tr>\n",
       "      <th>1</th>\n",
       "      <td>0</td>\n",
       "      <td>F</td>\n",
       "      <td>CF/CTO</td>\n",
       "      <td>NaN</td>\n",
       "      <td>NaN</td>\n",
       "      <td>NaN</td>\n",
       "      <td>Gurgaon</td>\n",
       "      <td>Full Stack, Front End</td>\n",
       "      <td>201-500</td>\n",
       "    </tr>\n",
       "  </tbody>\n",
       "</table>\n",
       "</div>"
      ],
      "text/plain": [
       "  Contact Status Designation Designation 2 Designation 3  \\\n",
       "0              0           F        CF/CEO           NaN   \n",
       "1              0           F        CF/CTO           NaN   \n",
       "\n",
       "  Detail Tech Requirement Funding      Location           Requirements  \\\n",
       "0                     NaN     NaN  Noida, Delhi               Back End   \n",
       "1                     NaN     NaN       Gurgaon  Full Stack, Front End   \n",
       "\n",
       "      Size  \n",
       "0   51-200  \n",
       "1  201-500  "
      ]
     },
     "execution_count": 12,
     "metadata": {},
     "output_type": "execute_result"
    }
   ],
   "source": [
    "data.head(2)"
   ]
  },
  {
   "cell_type": "markdown",
   "metadata": {},
   "source": [
    "# 'Designation'\n",
    "df = data"
   ]
  },
  {
   "cell_type": "code",
   "execution_count": 13,
   "metadata": {},
   "outputs": [],
   "source": [
    "data[\"Designation\"].fillna(\"Missing\", inplace=True)\n",
    "data[\"Designation 2\"].fillna(\"Missing\", inplace=True)\n",
    "data[\"Designation 3\"].fillna(\"Missing\", inplace=True)"
   ]
  },
  {
   "cell_type": "code",
   "execution_count": 14,
   "metadata": {},
   "outputs": [],
   "source": [
    "data[\"combined\"] = data[\"Designation\"].str.cat(data[[\"Designation\", \"Designation 2\", \"Designation 3\"]].astype(str), sep=\"/\")"
   ]
  },
  {
   "cell_type": "code",
   "execution_count": 15,
   "metadata": {},
   "outputs": [
    {
     "data": {
      "text/plain": [
       "array(['F/F/CF/CEO/Missing', 'F/F/CF/CTO/Missing',\n",
       "       'F/CF/VP/F/CF/VP/F/CF/Missing', ...,\n",
       "       'Missing/Missing/Missing/Missing',\n",
       "       'Missing/Missing/Missing/Missing',\n",
       "       'Missing/Missing/Missing/Missing'], dtype=object)"
      ]
     },
     "execution_count": 15,
     "metadata": {},
     "output_type": "execute_result"
    }
   ],
   "source": [
    "np.array(data[\"combined\"])"
   ]
  },
  {
   "cell_type": "code",
   "execution_count": 16,
   "metadata": {},
   "outputs": [],
   "source": [
    "[str(i).split(\"/\") for i in (np.array(data[\"combined\"]))]"
   ]
  },
  {
   "cell_type": "code",
   "execution_count": 17,
   "metadata": {},
   "outputs": [],
   "source": [
    "data[\"Contact Status\"] = (data[\"Contact Status\"].replace\n",
    "        (to_replace={'HR','Hr'}, value=\"0\", regex=True) )"
   ]
  },
  {
   "cell_type": "code",
   "execution_count": 18,
   "metadata": {},
   "outputs": [],
   "source": [
    "for i in range(len(data)):\n",
    "    if np.array(data[\"combined\"])[i] == \"HR\":\n",
    "        np.array(data[\"combined\"])[i] = 0\n",
    "    else:\n",
    "        np.array(data[\"combined\"])[i] = 1"
   ]
  },
  {
   "cell_type": "code",
   "execution_count": 19,
   "metadata": {},
   "outputs": [],
   "source": [
    "data[\"combined\"].str[1:-1].str.split(\"/\").map(set)\n",
    "data[\"combined\"] = data[\"combined\"].str.split(\"/\").map(set)\n",
    "(pd.DataFrame(data[\"combine\"])).head()"
   ]
  },
  {
   "cell_type": "code",
   "execution_count": 20,
   "metadata": {},
   "outputs": [
    {
     "data": {
      "text/plain": [
       "Contact Status                0\n",
       "Designation                   0\n",
       "Designation 2                 0\n",
       "Designation 3                 0\n",
       "Detail Tech Requirement    5094\n",
       "Funding                    6035\n",
       "Location                   1974\n",
       "Requirements               3930\n",
       "Size                       2127\n",
       "combined                      0\n",
       "dtype: int64"
      ]
     },
     "execution_count": 20,
     "metadata": {},
     "output_type": "execute_result"
    }
   ],
   "source": [
    "data.isna().sum()"
   ]
  },
  {
   "cell_type": "code",
   "execution_count": 21,
   "metadata": {},
   "outputs": [],
   "source": [
    "(data[\"combined\"][:5]).str.split(\"/\")\n",
    "[str(i).split(\"/\").map(set) for i in (np.array(data[\"combined\"]))]"
   ]
  },
  {
   "cell_type": "code",
   "execution_count": 22,
   "metadata": {},
   "outputs": [],
   "source": [
    "for i in range(len(data)-1):\n",
    "    data[\"combined\"][i:i+1] = data[\"combined\"][i:i+1].str.split(\"/\").map(set).map(list)\n",
    "    data[\"combined\"][i:i+1] = (data[\"combined\"][i:i+1].replace(to_replace={'F','Founder','ounder', \"CFounder\", 'CF', 'CoFounder'}, value=\"Founder\",regex=True))"
   ]
  },
  {
   "cell_type": "code",
   "execution_count": 23,
   "metadata": {},
   "outputs": [],
   "source": [
    "data[\"combined\"][0:7]"
   ]
  },
  {
   "cell_type": "code",
   "execution_count": 24,
   "metadata": {},
   "outputs": [],
   "source": [
    "data[\"combined\"] = (data[\"combined\"].replace(to_replace={'Hr','HR','Head Hr', \"Head HR\"}, value=\"HR\", regex=True))"
   ]
  },
  {
   "cell_type": "code",
   "execution_count": 25,
   "metadata": {},
   "outputs": [],
   "source": [
    "data[\"combined\"] = (data[\"combined\"].replace(to_replace={'F','Founder','ounder', \"CFounder\", 'CF', 'CoFounder'}, value=\"Founder\",regex=True))"
   ]
  },
  {
   "cell_type": "code",
   "execution_count": 26,
   "metadata": {},
   "outputs": [],
   "source": [
    "len(data[\"combined\"].unique())\n",
    "data[\"combined\"]"
   ]
  },
  {
   "cell_type": "code",
   "execution_count": 27,
   "metadata": {},
   "outputs": [],
   "source": [
    "data[\"combined\"] = (data[\"combined\"].replace(to_replace={'F','Founder','ounder', \"CFounder\", 'CF', 'CoFounder'}, value=\"Founder\",regex=True))"
   ]
  },
  {
   "cell_type": "code",
   "execution_count": 28,
   "metadata": {},
   "outputs": [],
   "source": [
    "(data[\"combined\"][2:3])"
   ]
  },
  {
   "cell_type": "code",
   "execution_count": null,
   "metadata": {},
   "outputs": [],
   "source": []
  },
  {
   "cell_type": "code",
   "execution_count": 77,
   "metadata": {},
   "outputs": [],
   "source": [
    "data.drop(columns=[\"Designation\", \"Designation 2\", \"Designation 3\"], inplace = True)"
   ]
  },
  {
   "cell_type": "code",
   "execution_count": 30,
   "metadata": {},
   "outputs": [],
   "source": [
    "data[\"Requirements\"].str.split(\",\")\n",
    "col = [\"Back End\", \"Front End\", \"Full Stack\", \"other\", \"Node JS\", \"iOS\",\"Angular\",  \"React\",  \"Java\",  \".Net\", \"PHP\", \"Python\"]"
   ]
  },
  {
   "cell_type": "code",
   "execution_count": 31,
   "metadata": {},
   "outputs": [],
   "source": [
    "new = data[\"Requirements\"].str.split(\",\", n = 5, expand = True) \n",
    "  \n",
    "# making seperate first name column from new data frame \n",
    "data[\"Tech1\"]= new[0] \n",
    "  \n",
    "# making seperate last name column from new data frame \n",
    "data[\"Tech2\"]= new[1] \n",
    "data[\"Tech3\"]= new[2] \n",
    "data[\"Tech4\"]= new[3] \n",
    "data[\"Tech5\"]= new[4] "
   ]
  },
  {
   "cell_type": "code",
   "execution_count": 32,
   "metadata": {},
   "outputs": [
    {
     "data": {
      "text/html": [
       "<div>\n",
       "<style scoped>\n",
       "    .dataframe tbody tr th:only-of-type {\n",
       "        vertical-align: middle;\n",
       "    }\n",
       "\n",
       "    .dataframe tbody tr th {\n",
       "        vertical-align: top;\n",
       "    }\n",
       "\n",
       "    .dataframe thead th {\n",
       "        text-align: right;\n",
       "    }\n",
       "</style>\n",
       "<table border=\"1\" class=\"dataframe\">\n",
       "  <thead>\n",
       "    <tr style=\"text-align: right;\">\n",
       "      <th></th>\n",
       "      <th>Contact Status</th>\n",
       "      <th>Detail Tech Requirement</th>\n",
       "      <th>Funding</th>\n",
       "      <th>Location</th>\n",
       "      <th>Requirements</th>\n",
       "      <th>Size</th>\n",
       "      <th>combined</th>\n",
       "    </tr>\n",
       "  </thead>\n",
       "  <tbody>\n",
       "    <tr>\n",
       "      <th>0</th>\n",
       "      <td>0</td>\n",
       "      <td>NaN</td>\n",
       "      <td>NaN</td>\n",
       "      <td>Noida, Delhi</td>\n",
       "      <td>Back End</td>\n",
       "      <td>51-200</td>\n",
       "      <td>F/F/CF/CEO/Missing</td>\n",
       "    </tr>\n",
       "    <tr>\n",
       "      <th>1</th>\n",
       "      <td>0</td>\n",
       "      <td>NaN</td>\n",
       "      <td>NaN</td>\n",
       "      <td>Gurgaon</td>\n",
       "      <td>Full Stack, Front End</td>\n",
       "      <td>201-500</td>\n",
       "      <td>F/F/CF/CTO/Missing</td>\n",
       "    </tr>\n",
       "    <tr>\n",
       "      <th>2</th>\n",
       "      <td>0</td>\n",
       "      <td>NaN</td>\n",
       "      <td>NaN</td>\n",
       "      <td>Gurgaon, Delhi</td>\n",
       "      <td>ReactJS</td>\n",
       "      <td>11-50</td>\n",
       "      <td>F/CF/VP/F/CF/VP/F/CF/Missing</td>\n",
       "    </tr>\n",
       "    <tr>\n",
       "      <th>3</th>\n",
       "      <td>0</td>\n",
       "      <td>NaN</td>\n",
       "      <td>NaN</td>\n",
       "      <td>Gurgaon</td>\n",
       "      <td>Front End</td>\n",
       "      <td>11-50</td>\n",
       "      <td>F/Director/F/Director/Missing/Missing</td>\n",
       "    </tr>\n",
       "    <tr>\n",
       "      <th>4</th>\n",
       "      <td>0</td>\n",
       "      <td>NaN</td>\n",
       "      <td>NaN</td>\n",
       "      <td>Gurgaon</td>\n",
       "      <td>Software, Front End</td>\n",
       "      <td>0-10</td>\n",
       "      <td>F/CEO/F/CEO/Missing/Missing</td>\n",
       "    </tr>\n",
       "  </tbody>\n",
       "</table>\n",
       "</div>"
      ],
      "text/plain": [
       "  Contact Status Detail Tech Requirement Funding        Location  \\\n",
       "0              0                     NaN     NaN    Noida, Delhi   \n",
       "1              0                     NaN     NaN         Gurgaon   \n",
       "2              0                     NaN     NaN  Gurgaon, Delhi   \n",
       "3              0                     NaN     NaN         Gurgaon   \n",
       "4              0                     NaN     NaN         Gurgaon   \n",
       "\n",
       "            Requirements     Size                               combined  \n",
       "0               Back End   51-200                     F/F/CF/CEO/Missing  \n",
       "1  Full Stack, Front End  201-500                     F/F/CF/CTO/Missing  \n",
       "2                ReactJS    11-50           F/CF/VP/F/CF/VP/F/CF/Missing  \n",
       "3              Front End    11-50  F/Director/F/Director/Missing/Missing  \n",
       "4    Software, Front End     0-10            F/CEO/F/CEO/Missing/Missing  "
      ]
     },
     "execution_count": 32,
     "metadata": {},
     "output_type": "execute_result"
    }
   ],
   "source": [
    "# data.head()"
   ]
  },
  {
   "cell_type": "markdown",
   "metadata": {},
   "source": [
    "</h3><b> Make techs as key in dict and save column number as values. Then replace those col by 1 </b> </h3>\n"
   ]
  },
  {
   "cell_type": "code",
   "execution_count": 78,
   "metadata": {},
   "outputs": [],
   "source": [
    "data[\"Requirements\"].fillna(\"Missing\", inplace = True)"
   ]
  },
  {
   "cell_type": "markdown",
   "metadata": {},
   "source": [
    "Remove the brackets and everything within it."
   ]
  },
  {
   "cell_type": "code",
   "execution_count": 87,
   "metadata": {},
   "outputs": [
    {
     "name": "stdout",
     "output_type": "stream",
     "text": [
      "Back End\n",
      "Full Stack, Front End\n",
      "ReactJS\n"
     ]
    }
   ],
   "source": [
    "l = []\n",
    "import re\n",
    "for i in range(3):\n",
    "    x = re.sub(\"[\\(\\[].*?[\\)\\]]\", \"\", str(np.array(data[\"Requirements\"])[i]))\n",
    "    print(x)\n",
    "    l.append(x)"
   ]
  },
  {
   "cell_type": "code",
   "execution_count": 99,
   "metadata": {},
   "outputs": [],
   "source": [
    "req = []\n",
    "for i in l[:3]:\n",
    "    print(i)\n",
    "    req.append(i.split(\",\"))\n"
   ]
  },
  {
   "cell_type": "code",
   "execution_count": 95,
   "metadata": {},
   "outputs": [
    {
     "data": {
      "text/plain": [
       "[['F'], ['u']]"
      ]
     },
     "execution_count": 95,
     "metadata": {},
     "output_type": "execute_result"
    }
   ],
   "source": [
    "req[:2]"
   ]
  },
  {
   "cell_type": "code",
   "execution_count": 54,
   "metadata": {},
   "outputs": [],
   "source": [
    "dict = {}\n",
    "a = []\n",
    "list_keys = dict.keys()\n",
    "for i in range(len(data)):\n",
    "    for j in l[i]:\n",
    "        j = re.sub(\"[\\(\\[].*?[\\)\\]]\", \"\", j)\n",
    "        j = j.strip().replace(\" \", \"\").lower()\n",
    "        j = j.strip().replace(\"-\", \"\").lower()\n",
    "    \n",
    "        if j in list_keys:\n",
    "            a = [dict[j]]\n",
    "            dict[j] = a.append(i)\n",
    "        else:\n",
    "            dict[j] = a"
   ]
  },
  {
   "cell_type": "code",
   "execution_count": 49,
   "metadata": {},
   "outputs": [
    {
     "data": {
      "text/plain": [
       "str"
      ]
     },
     "execution_count": 49,
     "metadata": {},
     "output_type": "execute_result"
    }
   ],
   "source": [
    "t = str(np.array(data[\"Requirements\"])[1])\n",
    "type(t)"
   ]
  }
 ],
 "metadata": {
  "kernelspec": {
   "display_name": "Python 3",
   "language": "python",
   "name": "python3"
  },
  "language_info": {
   "codemirror_mode": {
    "name": "ipython",
    "version": 3
   },
   "file_extension": ".py",
   "mimetype": "text/x-python",
   "name": "python",
   "nbconvert_exporter": "python",
   "pygments_lexer": "ipython3",
   "version": "3.7.1"
  }
 },
 "nbformat": 4,
 "nbformat_minor": 2
}
